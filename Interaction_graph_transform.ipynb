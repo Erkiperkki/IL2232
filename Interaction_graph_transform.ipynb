{
  "nbformat": 4,
  "nbformat_minor": 0,
  "metadata": {
    "colab": {
      "provenance": []
    },
    "kernelspec": {
      "name": "python3",
      "display_name": "Python 3"
    },
    "language_info": {
      "name": "python"
    }
  },
  "cells": [
    {
      "cell_type": "code",
      "source": [
        "!pip install torch_geometric"
      ],
      "metadata": {
        "colab": {
          "base_uri": "https://localhost:8080/"
        },
        "id": "9fhlUToHNCJG",
        "outputId": "fdf23e57-5211-4d6c-d93c-4db91d116174"
      },
      "execution_count": 47,
      "outputs": [
        {
          "output_type": "stream",
          "name": "stdout",
          "text": [
            "Requirement already satisfied: torch_geometric in /usr/local/lib/python3.10/dist-packages (2.4.0)\n",
            "Requirement already satisfied: tqdm in /usr/local/lib/python3.10/dist-packages (from torch_geometric) (4.66.1)\n",
            "Requirement already satisfied: numpy in /usr/local/lib/python3.10/dist-packages (from torch_geometric) (1.23.5)\n",
            "Requirement already satisfied: scipy in /usr/local/lib/python3.10/dist-packages (from torch_geometric) (1.11.3)\n",
            "Requirement already satisfied: jinja2 in /usr/local/lib/python3.10/dist-packages (from torch_geometric) (3.1.2)\n",
            "Requirement already satisfied: requests in /usr/local/lib/python3.10/dist-packages (from torch_geometric) (2.31.0)\n",
            "Requirement already satisfied: pyparsing in /usr/local/lib/python3.10/dist-packages (from torch_geometric) (3.1.1)\n",
            "Requirement already satisfied: scikit-learn in /usr/local/lib/python3.10/dist-packages (from torch_geometric) (1.2.2)\n",
            "Requirement already satisfied: psutil>=5.8.0 in /usr/local/lib/python3.10/dist-packages (from torch_geometric) (5.9.5)\n",
            "Requirement already satisfied: MarkupSafe>=2.0 in /usr/local/lib/python3.10/dist-packages (from jinja2->torch_geometric) (2.1.3)\n",
            "Requirement already satisfied: charset-normalizer<4,>=2 in /usr/local/lib/python3.10/dist-packages (from requests->torch_geometric) (3.3.1)\n",
            "Requirement already satisfied: idna<4,>=2.5 in /usr/local/lib/python3.10/dist-packages (from requests->torch_geometric) (3.4)\n",
            "Requirement already satisfied: urllib3<3,>=1.21.1 in /usr/local/lib/python3.10/dist-packages (from requests->torch_geometric) (2.0.7)\n",
            "Requirement already satisfied: certifi>=2017.4.17 in /usr/local/lib/python3.10/dist-packages (from requests->torch_geometric) (2023.7.22)\n",
            "Requirement already satisfied: joblib>=1.1.1 in /usr/local/lib/python3.10/dist-packages (from scikit-learn->torch_geometric) (1.3.2)\n",
            "Requirement already satisfied: threadpoolctl>=2.0.0 in /usr/local/lib/python3.10/dist-packages (from scikit-learn->torch_geometric) (3.2.0)\n"
          ]
        }
      ]
    },
    {
      "cell_type": "code",
      "source": [
        "import torch\n",
        "from torch.nn import Linear\n",
        "from torch_geometric.nn import GCNConv\n",
        "from torch_geometric.nn import global_mean_pool\n",
        "\n",
        "class GNN(torch.nn.Module):\n",
        "    def __init__(self, hidden_channels):\n",
        "        super(GNN, self).__init__()\n",
        "        torch.manual_seed(12345)\n",
        "        self.conv1 = GCNConv(5, hidden_channels)\n",
        "        self.conv2 = GCNConv(hidden_channels, hidden_channels)\n",
        "        self.lin = Linear(hidden_channels, 2)\n",
        "\n",
        "    def forward(self, data):\n",
        "        x, edge_index, edge_attr = data.edge_attr, data.edge_index, data.edge_attr\n",
        "        x = self.conv1(edge_attr, edge_index)\n",
        "        x = x.relu()\n",
        "        x = self.conv2(x, edge_index)\n",
        "        x = x.relu()\n",
        "        x = global_mean_pool(x, data.batch)\n",
        "        x = self.lin(x)\n",
        "        return x\n"
      ],
      "metadata": {
        "id": "GnogeJ5hMKJY"
      },
      "execution_count": 48,
      "outputs": []
    },
    {
      "cell_type": "code",
      "source": [
        "import numpy as np\n",
        "target=[]\n",
        "source=[]\n",
        "edge_attr=[]\n",
        "inp=np.array([[1,2,3],[10,20,30],[100,200,300]])\n",
        "print(inp)\n",
        "for row_idx, row in enumerate(inp):\n",
        "    for col_idx, element in enumerate(row):\n",
        "      target.append(row_idx+1)\n",
        "      source.append(element)\n",
        "      edge_attr.append(element)\n",
        "edge_index=[target,source]\n",
        "print(target)\n",
        "print(source)\n",
        "print(edge_index)\n",
        "print(edge_attr)\n",
        "\n",
        "\n",
        "'''\n",
        "edge_attr[i] corresponds to the edge\n",
        "between edge_index[0][i] and edge_index[1][i].\n",
        "'''\n"
      ],
      "metadata": {
        "colab": {
          "base_uri": "https://localhost:8080/",
          "height": 157
        },
        "id": "iZQzhCa0n8gg",
        "outputId": "b24d7ec9-d178-4e63-a4cc-b81fb2f0f9cf"
      },
      "execution_count": 49,
      "outputs": [
        {
          "output_type": "stream",
          "name": "stdout",
          "text": [
            "[[  1   2   3]\n",
            " [ 10  20  30]\n",
            " [100 200 300]]\n",
            "[1, 1, 1, 2, 2, 2, 3, 3, 3]\n",
            "[1, 2, 3, 10, 20, 30, 100, 200, 300]\n",
            "[[1, 1, 1, 2, 2, 2, 3, 3, 3], [1, 2, 3, 10, 20, 30, 100, 200, 300]]\n",
            "[1, 2, 3, 10, 20, 30, 100, 200, 300]\n"
          ]
        },
        {
          "output_type": "execute_result",
          "data": {
            "text/plain": [
              "'\\nedge_attr[i] corresponds to the edge \\nbetween edge_index[0][i] and edge_index[1][i].\\n'"
            ],
            "application/vnd.google.colaboratory.intrinsic+json": {
              "type": "string"
            }
          },
          "metadata": {},
          "execution_count": 49
        }
      ]
    },
    {
      "cell_type": "code",
      "source": [
        "import networkx as nx\n",
        "import random\n",
        "\n",
        "# Create an empty graph\n",
        "G = nx.DiGraph()\n",
        "\n",
        "# Add three nodes with no node features\n",
        "inp=np.array([[1,2,3],[10,20,30],[100,200,300]])\n",
        "nr_obj=len(inp[0])\n",
        "objs=list(range(nr_obj))\n",
        "G.add_nodes_from(objs)\n",
        "\n",
        "# Add fully connected edges with random edge features between 1 and 10\n",
        "for i in objs:\n",
        "    for j in objs:\n",
        "      if i != j: #skip self edge\n",
        "        if not (G.edges(j,i)): # skip already set edge\n",
        "          edge_feature = inp[i][j]\n",
        "          #edge_feature = random.randint(1, 10)\n",
        "          #G.add_edge(j, i, edge_feature=edge_feature)\n",
        "          G.add_edge(i, j, edge_feature=edge_feature)\n",
        "\n",
        "# Print the graph\n",
        "print(\"Graph nodes:\", G.nodes())\n",
        "#print(\"Graph edges:\", G.edges(data=True))\n",
        "pos = nx.spring_layout(G)\n",
        "nx.draw(G, pos, with_labels=True, node_size=500, node_color='lightblue', font_size=12, font_color='black')\n",
        "\n",
        "# Draw edge labels\n",
        "#edge_labels = nx.get_edge_attributes(G, 'edge_feature')\n",
        "edge_labels = {(u, v): G[u][v]['edge_feature'] for u, v in G.edges()}\n",
        "\n",
        "nx.draw_networkx_edge_labels(G, pos, edge_labels=edge_labels)\n",
        "\n",
        "plt.show()"
      ],
      "metadata": {
        "colab": {
          "base_uri": "https://localhost:8080/",
          "height": 533
        },
        "id": "YMS2rx9wvT8B",
        "outputId": "b3a21a30-6064-4ec3-a04a-e1bf34a6bc61"
      },
      "execution_count": 51,
      "outputs": [
        {
          "output_type": "stream",
          "name": "stdout",
          "text": [
            "Graph nodes: [0, 1, 2]\n"
          ]
        },
        {
          "output_type": "display_data",
          "data": {
            "text/plain": [
              "<Figure size 640x480 with 1 Axes>"
            ],
            "image/png": "[encoded data removed]"
          },
          "metadata": {}
        }
      ]
    },
    {
      "cell_type": "markdown",
      "source": [
        "Not used!"
      ],
      "metadata": {
        "id": "bieiSFUA4Jpx"
      }
    },
    {
      "cell_type": "code",
      "source": [
        "import networkx as nx\n",
        "import random\n",
        "import matplotlib.pyplot as plt\n",
        "\n",
        "# Create a directed multigraph with no node features\n",
        "G = nx.MultiDiGraph()\n",
        "inp=np.array([[1,2,3],[10,20,30],[100,200,300]])\n",
        "\n",
        "nr_obj=len(inp[0])\n",
        "G.add_nodes_from(range(nr_obj))\n",
        "# Add 5 nodes\n",
        "\n",
        "# Add fully connected edges with random edge features (integers)\n",
        "edge_labels = {}  # Store edge features for labeling\n",
        "\n",
        "for i in range(nr_obj):\n",
        "    for j in range(nr_obj):\n",
        "        if i != j: #skip self edge\n",
        "            #if not (G.edges(j,i)):\n",
        "              #edge_feature = random.randint(1, 10)  # Replace with your desired range\n",
        "              edge_feature = inp[i][j]  # Replace with your desired range\n",
        "              G.add_edge(i, j, edge_feature=edge_feature)\n",
        "              #G.add_edge(j, i, edge_feature=edge_feature)\n",
        "              edge_labels[(i, j)] = edge_feature  # Store edge feature for labeling\n",
        "\n",
        "# Draw the graph\n",
        "pos = nx.spring_layout(G, seed=42)\n",
        "nx.draw(G, pos, with_labels=True, node_size=500, node_color='lightblue', font_size=12, font_color='black')\n",
        "nx.draw_networkx_edge_labels(G, pos, edge_labels=edge_labels, font_color='red')\n",
        "\n",
        "# Display the graph using Matplotlib\n",
        "plt.axis('off')\n",
        "plt.show()"
      ],
      "metadata": {
        "colab": {
          "base_uri": "https://localhost:8080/",
          "height": 516
        },
        "id": "SU-rS5w-yvtj",
        "outputId": "31c7e547-1596-423c-d174-0ab67b3988a5"
      },
      "execution_count": 50,
      "outputs": [
        {
          "output_type": "display_data",
          "data": {
            "text/plain": [
              "<Figure size 640x480 with 1 Axes>"
            ],
            "image/png": "[encoded data removed]"
          },
          "metadata": {}
        }
      ]
    },
    {
      "cell_type": "code",
      "source": [],
      "metadata": {
        "colab": {
          "base_uri": "https://localhost:8080/"
        },
        "id": "9sVjBJP7Przx",
        "outputId": "69f8558a-8648-496b-857a-e7c47b873090"
      },
      "execution_count": 13,
      "outputs": [
        {
          "output_type": "stream",
          "name": "stderr",
          "text": [
            "/usr/local/lib/python3.10/dist-packages/torch_geometric/deprecation.py:22: UserWarning: 'data.DataLoader' is deprecated, use 'loader.DataLoader' instead\n",
            "  warnings.warn(out)\n"
          ]
        }
      ]
    },
    {
      "cell_type": "code",
      "source": [
        "num_nodes = 10  # number of nodes in your graph\n",
        "edge_index = torch.combinations(torch.arange(num_nodes), r=2).t()  # fully connected\n",
        "x = torch.ones((num_nodes, 1))  # node features\n",
        "edge_attr = torch.randn((edge_index.size(1), 1))  # edge features\n",
        "print()\n",
        "data = Data(x=x, edge_index=edge_index, edge_attr=edge_attr)"
      ],
      "metadata": {
        "colab": {
          "base_uri": "https://localhost:8080/"
        },
        "id": "ZyNvoHqOlrv8",
        "outputId": "ebac74dc-3bcc-4eda-b98f-c732e0779c5b"
      },
      "execution_count": 15,
      "outputs": [
        {
          "output_type": "stream",
          "name": "stdout",
          "text": [
            "tensor([[0, 0, 0, 0, 0, 0, 0, 0, 0, 1, 1, 1, 1, 1, 1, 1, 1, 2, 2, 2, 2, 2, 2, 2,\n",
            "         3, 3, 3, 3, 3, 3, 4, 4, 4, 4, 4, 5, 5, 5, 5, 6, 6, 6, 7, 7, 8],\n",
            "        [1, 2, 3, 4, 5, 6, 7, 8, 9, 2, 3, 4, 5, 6, 7, 8, 9, 3, 4, 5, 6, 7, 8, 9,\n",
            "         4, 5, 6, 7, 8, 9, 5, 6, 7, 8, 9, 6, 7, 8, 9, 7, 8, 9, 8, 9, 9]])\n"
          ]
        }
      ]
    },
    {
      "cell_type": "code",
      "source": [
        "print(data.edge_attr.shape)\n",
        "print(data.edge_index.shape)"
      ],
      "metadata": {
        "colab": {
          "base_uri": "https://localhost:8080/"
        },
        "id": "hw6pSSlHOK-i",
        "outputId": "2a51f76d-b7f3-4a2f-b40c-4bfa1a602c6e"
      },
      "execution_count": 14,
      "outputs": [
        {
          "output_type": "stream",
          "name": "stdout",
          "text": [
            "torch.Size([210, 1])\n",
            "torch.Size([2, 210])\n"
          ]
        }
      ]
    },
    {
      "cell_type": "code",
      "source": [
        "data.edge_index"
      ],
      "metadata": {
        "colab": {
          "base_uri": "https://localhost:8080/"
        },
        "id": "U3QkHFRwS8V2",
        "outputId": "06e8ba3d-3a7c-4bda-bdc6-e98a6f1c8cda"
      },
      "execution_count": 10,
      "outputs": [
        {
          "output_type": "execute_result",
          "data": {
            "text/plain": [
              "tensor([[ 0,  0,  0,  0,  0,  0,  0,  0,  0,  0,  0,  0,  0,  0,  1,  1,  1,  1,\n",
              "          1,  1,  1,  1,  1,  1,  1,  1,  1,  1,  2,  2,  2,  2,  2,  2,  2,  2,\n",
              "          2,  2,  2,  2,  2,  2,  3,  3,  3,  3,  3,  3,  3,  3,  3,  3,  3,  3,\n",
              "          3,  3,  4,  4,  4,  4,  4,  4,  4,  4,  4,  4,  4,  4,  4,  4,  5,  5,\n",
              "          5,  5,  5,  5,  5,  5,  5,  5,  5,  5,  5,  5,  6,  6,  6,  6,  6,  6,\n",
              "          6,  6,  6,  6,  6,  6,  6,  6,  7,  7,  7,  7,  7,  7,  7,  7,  7,  7,\n",
              "          7,  7,  7,  7,  8,  8,  8,  8,  8,  8,  8,  8,  8,  8,  8,  8,  8,  8,\n",
              "          9,  9,  9,  9,  9,  9,  9,  9,  9,  9,  9,  9,  9,  9, 10, 10, 10, 10,\n",
              "         10, 10, 10, 10, 10, 10, 10, 10, 10, 10, 11, 11, 11, 11, 11, 11, 11, 11,\n",
              "         11, 11, 11, 11, 11, 11, 12, 12, 12, 12, 12, 12, 12, 12, 12, 12, 12, 12,\n",
              "         12, 12, 13, 13, 13, 13, 13, 13, 13, 13, 13, 13, 13, 13, 13, 13, 14, 14,\n",
              "         14, 14, 14, 14, 14, 14, 14, 14, 14, 14, 14, 14],\n",
              "        [ 1,  2,  3,  4,  5,  6,  7,  8,  9, 10, 11, 12, 13, 14,  0,  2,  3,  4,\n",
              "          5,  6,  7,  8,  9, 10, 11, 12, 13, 14,  0,  1,  3,  4,  5,  6,  7,  8,\n",
              "          9, 10, 11, 12, 13, 14,  0,  1,  2,  4,  5,  6,  7,  8,  9, 10, 11, 12,\n",
              "         13, 14,  0,  1,  2,  3,  5,  6,  7,  8,  9, 10, 11, 12, 13, 14,  0,  1,\n",
              "          2,  3,  4,  6,  7,  8,  9, 10, 11, 12, 13, 14,  0,  1,  2,  3,  4,  5,\n",
              "          7,  8,  9, 10, 11, 12, 13, 14,  0,  1,  2,  3,  4,  5,  6,  8,  9, 10,\n",
              "         11, 12, 13, 14,  0,  1,  2,  3,  4,  5,  6,  7,  9, 10, 11, 12, 13, 14,\n",
              "          0,  1,  2,  3,  4,  5,  6,  7,  8, 10, 11, 12, 13, 14,  0,  1,  2,  3,\n",
              "          4,  5,  6,  7,  8,  9, 11, 12, 13, 14,  0,  1,  2,  3,  4,  5,  6,  7,\n",
              "          8,  9, 10, 12, 13, 14,  0,  1,  2,  3,  4,  5,  6,  7,  8,  9, 10, 11,\n",
              "         13, 14,  0,  1,  2,  3,  4,  5,  6,  7,  8,  9, 10, 11, 12, 14,  0,  1,\n",
              "          2,  3,  4,  5,  6,  7,  8,  9, 10, 11, 12, 13]])"
            ]
          },
          "metadata": {},
          "execution_count": 10
        }
      ]
    },
    {
      "cell_type": "code",
      "source": [
        "\n",
        "def train(loader, model, optimizer, criterion):\n",
        "    model.train()\n",
        "    total_loss = 0\n",
        "    for data in loader:\n",
        "        optimizer.zero_grad()\n",
        "        out = model(data)\n",
        "        loss = criterion(out, data.y)\n",
        "        loss.backward()\n",
        "        optimizer.step()\n",
        "        total_loss += loss.item()\n",
        "    return total_loss / len(loader)\n",
        "\n",
        "def test(loader, model):\n",
        "    model.eval()\n",
        "    correct = 0\n",
        "    for data in loader:\n",
        "        with torch.no_grad():\n",
        "            pred = model(data).max(dim=1)[1]\n",
        "        correct += pred.eq(data.y).sum().item()\n",
        "    return correct / len(loader.dataset)"
      ],
      "metadata": {
        "id": "lWHANPVkOMpa"
      },
      "execution_count": null,
      "outputs": []
    }
  ]
}