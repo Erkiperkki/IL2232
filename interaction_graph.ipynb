{
  "nbformat": 4,
  "nbformat_minor": 0,
  "metadata": {
    "colab": {
      "provenance": []
    },
    "kernelspec": {
      "name": "python3",
      "display_name": "Python 3"
    },
    "language_info": {
      "name": "python"
    }
  },
  "cells": [
    {
      "cell_type": "code",
      "execution_count": 66,
      "metadata": {
        "id": "KKgu9aeBUsZS"
      },
      "outputs": [],
      "source": [
        "input=[[\"7 0.1 0.1 0.2 0.2\",\n",
        " \"2 0.5 0.5 0.6 0.6\"],\n",
        "[\"7 0.2 0.2 0.3 0.3\",\n",
        " \"2 0.4 0.4 0.5 0.5\"],\n",
        "[\"7 0.8 0.9 0.2 0.3\",\n",
        " \"2 0.3 0.3 0.4 0.4\"]]"
      ]
    },
    {
      "cell_type": "code",
      "source": [
        "def center_point(x_l, x_r, y_t, y_b):\n",
        "  x = (x_r - x_l) * 0.5 + x_l\n",
        "  y = (y_t - y_b) * 0.5 + y_b\n",
        "  return (x, y)"
      ],
      "metadata": {
        "id": "h5h_-tgSWHqo"
      },
      "execution_count": 67,
      "outputs": []
    },
    {
      "cell_type": "code",
      "source": [
        "xyt=[]\n",
        "xy=[]\n",
        "for frame in input:\n",
        "  xy=[]\n",
        "  for i in frame:\n",
        "    temp=i.split(\" \")\n",
        "    #xy.append(center_point(i.split(\" \")[1:4]))\n",
        "    xy.append(center_point(float(temp[1]), float(temp[2]), float(temp[3]), float(temp[4])))\n",
        "  xyt.append(xy)\n",
        "print(xy)\n",
        "print(xyt)"
      ],
      "metadata": {
        "colab": {
          "base_uri": "https://localhost:8080/"
        },
        "id": "ceK97nAlZsqP",
        "outputId": "108e30a8-43a6-408f-f05b-478210eae11a"
      },
      "execution_count": 68,
      "outputs": [
        {
          "output_type": "stream",
          "name": "stdout",
          "text": [
            "[(0.8500000000000001, 0.25), (0.3, 0.4)]\n",
            "[[(0.1, 0.2), (0.5, 0.6)], [(0.2, 0.3), (0.4, 0.5)], [(0.8500000000000001, 0.25), (0.3, 0.4)]]\n"
          ]
        }
      ]
    },
    {
      "cell_type": "code",
      "source": [
        "list_frame=[]\n",
        "spatial_rel_matrix=[]\n",
        "\n",
        "for xy in xyt:\n",
        "  spatial_rel_matrix=[]\n",
        "  for n1, obj1 in enumerate(xy):\n",
        "    spatial_rel_matrix.append([])\n",
        "    for n2, obj2 in enumerate(xy):\n",
        "\n",
        "      if obj1 == obj2:\n",
        "        spatial_rel_matrix[n1].append(0)\n",
        "      elif obj1[0] >= obj2[0] and obj1[1] >= obj2[1]:\n",
        "        spatial_rel_matrix[n1].append(2) # bottom-right\n",
        "      elif obj1[0] < obj2[0] and obj1[1] >= obj2[1]:\n",
        "        spatial_rel_matrix[n1].append(1) # bottom-left\n",
        "      elif obj1[0] < obj2[0] and obj1[1] < obj2[1]:\n",
        "        spatial_rel_matrix[n1].append(3) # top-left\n",
        "      elif obj1[0] >= obj2[0] and obj1[1] < obj2[1]:\n",
        "        spatial_rel_matrix[n1].append(4) # top-right\n",
        "\n",
        "  list_frame.append(spatial_rel_matrix)\n",
        "\n",
        "#print(spatial_rel_matrix)\n",
        "print(len(list_frame))\n",
        "print(list_frame)"
      ],
      "metadata": {
        "id": "Btv2nP8EZxbL",
        "colab": {
          "base_uri": "https://localhost:8080/"
        },
        "outputId": "62dd5bb3-d79f-4070-e898-c8019d22e6a7"
      },
      "execution_count": 69,
      "outputs": [
        {
          "output_type": "stream",
          "name": "stdout",
          "text": [
            "3\n",
            "[[[0, 3], [2, 0]], [[0, 3], [2, 0]], [[0, 4], [1, 0]]]\n"
          ]
        }
      ]
    },
    {
      "cell_type": "code",
      "source": [
        "# 1 moving left to right\n",
        "# 2 moving right to left\n",
        "# 3 moving forward\n",
        "# 4 moving backward\n",
        "# 5 no change\n",
        "# 6 moving foward *\n",
        "# 7 moving backward *\n",
        "# 8 self edge\n",
        "def comp(prev, curr):\n",
        "  if(prev == 1 and curr == 2):\n",
        "    return 1\n",
        "  elif(prev == 1 and curr == 3):\n",
        "    return 3\n",
        "  elif(prev == 1 and curr == 4):\n",
        "    return 6\n",
        "  elif(prev == 2 and curr == 1):\n",
        "    return 2\n",
        "  elif(prev == 2 and curr == 3):\n",
        "    return 6\n",
        "  elif(prev == 2 and curr == 4):\n",
        "    return 3\n",
        "  elif(prev == 3 and curr == 1):\n",
        "    return 4\n",
        "  elif(prev == 3 and curr == 2):\n",
        "    return 7\n",
        "  elif(prev == 3 and curr == 4):\n",
        "    return 1\n",
        "  elif(prev == 4 and curr == 1):\n",
        "    return 7\n",
        "  elif(prev == 4 and curr == 2):\n",
        "    return 4\n",
        "  elif(prev == 4 and curr == 3):\n",
        "    return 2\n",
        "  elif(prev == 0 and curr == 0):\n",
        "    return 8\n",
        "  elif(prev == curr):\n",
        "    return 5\n",
        "  else:\n",
        "    raise TypeError(\"Fucntion Comp Failed!!\")"
      ],
      "metadata": {
        "id": "6Sogb0ZRmxMk"
      },
      "execution_count": 70,
      "outputs": []
    },
    {
      "cell_type": "code",
      "source": [
        "matrix_size=len((list_frame[1][1]))\n",
        "print(matrix_size)\n",
        "spatio_temporal_matrix = [[0 for _ in range(matrix_size)] for _ in range(matrix_size)]\n",
        "\n",
        "for frame_nr, frame in enumerate(list_frame):\n",
        "  if len(list_frame)==frame_nr+1:\n",
        "    continue\n",
        "  frame2=list_frame[frame_nr+1]\n",
        "  for x in range(len(list_frame[frame_nr])): #to do: check if they are different sizes\n",
        "    for y in range(len(list_frame[frame_nr])):\n",
        "      #if frame[x][y] == 1 and frame2[x][y] == 2:\n",
        "      #print(x,y)\n",
        "      spatio_temporal_matrix[x][y]=comp(frame[x][y], frame2[x][y])\n",
        "print(spatio_temporal_matrix)\n",
        "\n"
      ],
      "metadata": {
        "colab": {
          "base_uri": "https://localhost:8080/"
        },
        "id": "sr9etjNI2ie1",
        "outputId": "9e20598c-db9d-4ffe-e8da-98683653da10"
      },
      "execution_count": 71,
      "outputs": [
        {
          "output_type": "stream",
          "name": "stdout",
          "text": [
            "2\n",
            "[[8, 1], [2, 8]]\n"
          ]
        }
      ]
    },
    {
      "cell_type": "code",
      "source": [],
      "metadata": {
        "id": "05LEwoUq4Hfq"
      },
      "execution_count": 71,
      "outputs": []
    }
  ]
}