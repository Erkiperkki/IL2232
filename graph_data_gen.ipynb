{
  "nbformat": 4,
  "nbformat_minor": 0,
  "metadata": {
    "colab": {
      "provenance": [],
      "toc_visible": true,
      "authorship_tag": "ABX9TyNucpirF96KOeapHIaCAtXz",
      "include_colab_link": true
    },
    "kernelspec": {
      "name": "python3",
      "display_name": "Python 3"
    },
    "language_info": {
      "name": "python"
    }
  },
  "cells": [
    {
      "cell_type": "markdown",
      "metadata": {
        "id": "view-in-github",
        "colab_type": "text"
      },
      "source": [
        "<a href=\"https://colab.research.google.com/github/Erkiperkki/IL2232/blob/main/graph_data_gen.ipynb\" target=\"_parent\"><img src=\"https://colab.research.google.com/assets/colab-badge.svg\" alt=\"Open In Colab\"/></a>"
      ]
    },
    {
      "cell_type": "code",
      "source": [
        "from google.colab import drive\n",
        "drive.mount('/content/drive')\n",
        "PATH=\"/content/drive/MyDrive/Embedded Systems Design Project\"\n",
        "#/content/drive/MyDrive/Embedded Systems Design Project/output"
      ],
      "metadata": {
        "colab": {
          "base_uri": "https://localhost:8080/"
        },
        "id": "0HUP6vSHLdKN",
        "outputId": "31b1fafd-4781-4fcc-a4ee-20611b9d8644"
      },
      "execution_count": 1,
      "outputs": [
        {
          "output_type": "stream",
          "name": "stdout",
          "text": [
            "Mounted at /content/drive\n"
          ]
        }
      ]
    },
    {
      "cell_type": "code",
      "source": [
        "import os\n",
        "import random\n",
        "import matplotlib.pyplot as plt\n",
        "import networkx as nx\n",
        "import pygraphviz\n",
        "from networkx.drawing.nx_agraph import to_agraph\n",
        "import torch"
      ],
      "metadata": {
        "id": "sJb_qAeYhptG"
      },
      "execution_count": 68,
      "outputs": []
    },
    {
      "cell_type": "code",
      "source": [
        "dir_path=PATH + \"/output\"\n",
        "SLIDING_WINDOW_SIZE = 4\n",
        "FRAME_INTERVAL = 1 #FRAME_INTERVAL=1 every frame is used, FRAME_INTERVAL=10 every tenth frame is used\n",
        "OVERLAPSE = 0\n",
        "SLIDING_WINDOW_OVERLAPSE = (SLIDING_WINDOW_SIZE - OVERLAPSE + 1) * FRAME_INTERVAL\n",
        "assert SLIDING_WINDOW_SIZE-OVERLAPSE>0"
      ],
      "metadata": {
        "id": "OKUQcCtgpmdZ"
      },
      "execution_count": null,
      "outputs": []
    },
    {
      "cell_type": "code",
      "source": [
        "def center_point(x_l, x_r, y_t, y_b):\n",
        "  x = (x_r - x_l) * 0.5 + x_l\n",
        "  y = (y_t - y_b) * 0.5 + y_b\n",
        "  return (x, y)"
      ],
      "metadata": {
        "id": "h5h_-tgSWHqo"
      },
      "execution_count": 24,
      "outputs": []
    },
    {
      "cell_type": "code",
      "source": [
        "def print_graph(G):\n",
        "  # Print the graph\n",
        "  print(\"Graph nodes:\", G.nodes())\n",
        "  print(\"Graph edges:\", G.edges(data=True))\n",
        "  pos = nx.spring_layout(G)\n",
        "  nx.draw(G, pos, with_labels=True, node_size=500, node_color='lightblue', font_size=12, font_color='black')\n",
        "\n",
        "  # Draw edge labels\n",
        "  #edge_labels = nx.get_edge_attributes(G, 'label')\n",
        "  edge_labels = {(u, v): G[u][v]['label'] for u, v in G.edges() if 'label' in G[u][v]}\n",
        "\n",
        "  nx.draw_networkx_edge_labels(G, pos, edge_labels=edge_labels)\n",
        "\n",
        "  plt.show()"
      ],
      "metadata": {
        "id": "W_YuphSV-Lbl"
      },
      "execution_count": 63,
      "outputs": []
    },
    {
      "cell_type": "code",
      "source": [
        "def save_graph(G,name):\n",
        "  G = to_agraph(G)\n",
        "  G.layout('dot')\n",
        "  G.edge_attr[\"len\"] = \"2\"\n",
        "  G.node_attr[\"fontsize\"] = \"22\"\n",
        "  G.edge_attr[\"fontsize\"] = \"18\"\n",
        "\n",
        "  G.draw(name+\".png\", prog=\"neato\")\n"
      ],
      "metadata": {
        "id": "IAGMM9SNay1L"
      },
      "execution_count": 26,
      "outputs": []
    },
    {
      "cell_type": "code",
      "source": [
        "def create_interaction_graph(frames):\n",
        "  edge_list=[]\n",
        "  #IG = nx.MultiDiGraph()\n",
        "  IG = nx.DiGraph()\n",
        "  for G in frames:\n",
        "    for node in G.nodes():\n",
        "      if not node in IG.nodes():IG.add_node(node)\n",
        "    for edge in G.edges():\n",
        "      if not edge in edge_list:\n",
        "        edge_list.append(edge)\n",
        "\n",
        "  for edge in edge_list:\n",
        "    label=None\n",
        "    for n, G in enumerate(frames):\n",
        "      if n+1==len(frames):break\n",
        "      if not edge in G.edges() or not edge in frames[n+1].edges(): continue\n",
        "\n",
        "      obj1, obj2 = G.edges()[(edge)], frames[n+1].edges()[(edge)]\n",
        "      #label=comp(obj1[\"label\"], obj2[\"label\"])\n",
        "      a, temp, _=rel_attr[obj1[\"label\"], obj2[\"label\"]]\n",
        "      if temp == \"No change\" and label!=None: continue\n",
        "\n",
        "      label, label_str, edge_color=rel_attr[obj1[\"label\"], obj2[\"label\"]]\n",
        "      #IG.add_edge(*edge, label=label) #priorites the last interaction #could put bool counter here to only add edge once if it found any but it looks uglier\n",
        "    if (label!=None):\n",
        "      IG.add_edge(*edge, label=label, label_str=label_str, color=edge_color)\n",
        "\n",
        "  return IG"
      ],
      "metadata": {
        "id": "MPfhlp9RlQzw"
      },
      "execution_count": null,
      "outputs": []
    },
    {
      "cell_type": "code",
      "source": [
        "def format_input(input):\n",
        "    temp=input.strip(\"\\n\").split(\",\")\n",
        "    return ((float(temp[5]), float(temp[6])), int(float(temp[7])) ) #[(float_touple_xy), int_label]\n",
        "\n"
      ],
      "metadata": {
        "id": "DRCcBLMelSxV"
      },
      "execution_count": null,
      "outputs": []
    },
    {
      "cell_type": "code",
      "source": [
        "# 0 Moving left to right\n",
        "# 1 Moving right to left\n",
        "# 2 Moving forward\n",
        "# 3 Moving backward\n",
        "# 4 No change\n",
        "# 5 Self edge\n",
        "# 6 Moving foward * (not included)\n",
        "# 7 Moving backward * (not included)\n",
        "\n",
        "rel_attr={\n",
        "    (0, 0): [5, \"Self edge\", \"black\"],\n",
        "    (1, 1): [4, \"No change\", \"darkgray\"],\n",
        "    (1, 2): [0, \"Moving left to right\", \"green\"],\n",
        "    (1, 3): [2, \"Moving forward\", \"blue\"],\n",
        "    (1, 4): [6, \"Moving forward * (not included)\", \"black\"],\n",
        "    (2, 1): [1, \"Moving right to left\", \"orange\"],\n",
        "    (2, 2): [4, \"No change\", \"darkgray\"],\n",
        "    (2, 3): [6, \"Moving foward * (not included)\", \"black\"],\n",
        "    (2, 4): [2, \"Moving forward\", \"blue\"],\n",
        "    (3, 1): [3, \"Moving backward\", \"red\"],\n",
        "    (3, 2): [7, \"Moving backward * (not included)\", \"black\"],\n",
        "    (3, 3): [4, \"No change\", \"darkgray\"],\n",
        "    (3, 4): [0, \"Moving left to right\", \"green\"],\n",
        "    (4, 1): [7, \"Moving backward * (not included)\", \"black\"],\n",
        "    (4, 2): [3, \"Moving backward\", \"red\"],\n",
        "    (4, 3): [1, \"Moving right to left\", \"orange\"],\n",
        "    (4, 4): [4, \"No change\", \"darkgray\"]\n",
        "}\n",
        "def comp(prev, curr):\n",
        "  if(prev == 0 and curr == 0):\n",
        "    return 5  # 5 self edge\n",
        "  elif(prev == 1 and curr == 2):\n",
        "    return 0\n",
        "  elif(prev == 1 and curr == 3):\n",
        "    return 2\n",
        "  elif(prev == 1 and curr == 4):\n",
        "    return 6 # 6 moving foward * (not included)\n",
        "  elif(prev == 2 and curr == 1):\n",
        "    return 1\n",
        "  elif(prev == 2 and curr == 3):\n",
        "    return 6 # 6 moving foward * (not included)\n",
        "  elif(prev == 2 and curr == 4):\n",
        "    return 2\n",
        "  elif(prev == 3 and curr == 1):\n",
        "    return 3\n",
        "  elif(prev == 3 and curr == 2):\n",
        "    return 7 # 7 moving backward * (not included)\n",
        "  elif(prev == 3 and curr == 4):\n",
        "    return 0\n",
        "  elif(prev == 4 and curr == 1):\n",
        "    return 7 # 7 moving backward * (not included)\n",
        "  elif(prev == 4 and curr == 2):\n",
        "    return 3\n",
        "  elif(prev == 4 and curr == 3):\n",
        "    return 1\n",
        "  elif(prev == curr):\n",
        "    return 4\n",
        "  else:\n",
        "    raise TypeError(\"Fucntion Comp Failed!!\")"
      ],
      "metadata": {
        "id": "6Sogb0ZRmxMk"
      },
      "execution_count": 8,
      "outputs": []
    },
    {
      "cell_type": "code",
      "source": [
        "def add_edges(G) -> nx.DiGraph:\n",
        "    for obj1 in G.nodes():\n",
        "      for obj2 in G.nodes():\n",
        "        if obj1 != obj2:\n",
        "\n",
        "          obj1_x , obj1_y = G.nodes[obj1][\"xy\"][0] , G.nodes[obj1][\"xy\"][1]\n",
        "          obj2_x , obj2_y = G.nodes[obj2][\"xy\"][0] , G.nodes[obj2][\"xy\"][1]\n",
        "\n",
        "          if obj1_x >= obj2_x and obj1_y >= obj2_y:\n",
        "            label =2 # bottom-right\n",
        "            label_str = \"Bottom-Right\" # bottom-right\n",
        "            edge_color = \"lightgreen\"\n",
        "          elif obj1_x < obj2_x and obj1_y >= obj2_y:\n",
        "            label =1\n",
        "            label_str = \"Bottom-Left\" # bottom-right\n",
        "            edge_color = \"lightblue\"\n",
        "          elif obj1_x < obj2_x and obj1_y < obj2_y:\n",
        "            label =3\n",
        "            label_str = \"Top-Left\" # bottom-right\n",
        "            edge_color = \"orange\"\n",
        "          elif obj1_x >= obj2_x and obj1_y < obj2_y:\n",
        "            label =4\n",
        "            label_str = \"Top-Right\" # bottom-right\n",
        "            edge_color= \"pink\"\n",
        "\n",
        "          G.add_edge(obj1, obj2, label=label, label_str=label_str, color=edge_color)\n",
        "\n",
        "    return G\n"
      ],
      "metadata": {
        "id": "9m7tOd-llURX"
      },
      "execution_count": null,
      "outputs": []
    },
    {
      "cell_type": "code",
      "source": [
        "input_scenes=[]\n",
        "input_windows=[]\n",
        "input_frames=[]\n",
        "\n",
        "sort_alg = lambda key: int(key.strip(\".txt\").split(\"_\")[1]) # sort using the frame_nr in format: \"{scene_nr} _ {frame_nr} .txt\"\n",
        "\n",
        "for dir_name in os.listdir(dir_path):\n",
        "  scene_path=os.path.join(dir_path, dir_name)\n",
        "  frame_paths = sorted(os.listdir(scene_path), key=sort_alg)\n",
        "  for i in range(0, len(frame_paths) - SLIDING_WINDOW_SIZE + 1, SLIDING_WINDOW_OVERLAPSE): #grab right values\n",
        "    input_frames=[]\n",
        "    for filename in frame_paths[i: i + (SLIDING_WINDOW_SIZE*FRAME_INTERVAL): FRAME_INTERVAL]: #grab right values\n",
        "      if(i + (SLIDING_WINDOW_SIZE*FRAME_INTERVAL) > len(frame_paths)): continue\n",
        "      with open(os.path.join(scene_path, filename), 'r') as f:\n",
        "        frame=f.readlines()\n",
        "        input_frames.append(frame)\n",
        "\n",
        "        if input_frames==[]:\n",
        "          print(i)\n",
        "          raise ValueError\n",
        "\n",
        "    #   print(filename)\n",
        "    # print(\"--\")\n",
        "    # print(len(frames))\n",
        "    if input_frames: input_windows.append(input_frames)\n",
        "  if input_windows: input_scenes.append(input_windows)\n",
        "#input_frames=scenes"
      ],
      "metadata": {
        "id": "YP_lIfGALMq6"
      },
      "execution_count": 43,
      "outputs": []
    },
    {
      "cell_type": "code",
      "source": [
        "#main\n",
        "graphs = []\n",
        "interaction_graph_list = []\n",
        "for windows in input_scenes:\n",
        "  for frames in windows:\n",
        "    for frame in frames:\n",
        "      G = nx.DiGraph()\n",
        "      for ln in frame:\n",
        "        xy, label = format_input(ln)\n",
        "        G.add_node(label, xy=xy)\n",
        "\n",
        "      G=add_edges(G)\n",
        "      graphs.append(G)\n",
        "\n",
        "    IG = create_interaction_graph(graphs)\n",
        "    if IG.number_of_nodes() <= 1 or IG.number_of_edges() <= 1: continue #remove empty frames\n",
        "    interaction_graph_list.append(IG)\n",
        "\n",
        "    graphs=[]\n",
        "\n",
        "for i in interaction_graph_list:\n",
        "  print_graph(i)\n",
        "\n",
        "\n"
      ],
      "metadata": {
        "id": "u6tD7pO0VH3w"
      },
      "execution_count": null,
      "outputs": []
    },
    {
      "cell_type": "code",
      "source": [
        "torch.save(interaction_graph_list, PATH+\"/IA_graph.csv\")\n",
        "# for n,g in enumerate(interaction_graph_list):\n",
        "#   nx.write_edgelist(g, PATH+\"/IA_graph\"+str(n)+\".csv\", data=True, delimiter =\",\", )\n"
      ],
      "metadata": {
        "id": "Oki3oA2oGkgg"
      },
      "execution_count": 71,
      "outputs": []
    },
    {
      "cell_type": "code",
      "source": [
        "RELATION_COLORS = [\"red\", \"yellow\", \"blue\", \"green\", \"purple\", \"black\"]\n",
        "\n",
        "G=IG\n",
        "\n",
        "print(\"Graph nodes:\", G.nodes())\n",
        "print(\"Graph edges:\", G.edges())\n",
        "\n",
        "A = to_agraph(G)\n",
        "\n",
        "A.layout('dot')\n",
        "#A.node_attr[\"style\"] = \"filled\"\n",
        "A.edge_attr[\"len\"] = \"2\"\n",
        "A.node_attr[\"fontsize\"] = \"22\"\n",
        "A.edge_attr[\"fontsize\"] = \"18\"\n",
        "\n",
        "#A.write(\"graph.dot\") # write to simple.dot\n",
        "#A.read(\"graph.dot\") # write to simple.dot\n",
        "A.graph_attr[\"label\"] = \"Interaction Graph\"\n",
        "A.draw(\"Interaction_Graph.png\", prog=\"neato\")\n"
      ],
      "metadata": {
        "id": "L8FKIRq8OwkE",
        "colab": {
          "base_uri": "https://localhost:8080/"
        },
        "outputId": "ad682198-864e-4b33-c75e-e8a0d831301e"
      },
      "execution_count": null,
      "outputs": [
        {
          "output_type": "stream",
          "name": "stdout",
          "text": [
            "Graph nodes: [1, 2, 3, 5, 9, 10, 11, 12, 13, 14, 15, 16, 18, 19, 23, 31, 33, 34, 35, 36, 38, 39, 41, 42, 43]\n",
            "Graph edges: [(1, 2), (1, 3), (1, 5), (2, 1), (2, 3), (2, 5), (2, 9), (2, 10), (2, 11), (2, 12), (2, 13), (2, 14), (2, 15), (2, 16), (3, 1), (3, 2), (3, 5), (3, 9), (5, 1), (5, 2), (5, 3), (9, 2), (9, 3), (9, 12), (9, 13), (9, 14), (10, 2), (10, 11), (11, 2), (11, 10), (11, 12), (11, 13), (12, 2), (12, 11), (12, 13), (12, 14), (12, 9), (12, 15), (13, 2), (13, 11), (13, 12), (13, 14), (13, 9), (13, 15), (13, 16), (14, 2), (14, 12), (14, 13), (14, 9), (14, 15), (15, 2), (15, 12), (15, 13), (15, 14), (15, 16), (16, 2), (16, 15), (16, 13), (18, 19), (18, 23), (19, 18), (23, 18), (31, 34), (31, 35), (34, 31), (34, 35), (35, 31), (35, 34), (38, 39), (38, 41), (38, 42), (38, 43), (39, 38), (39, 41), (39, 42), (39, 43), (41, 38), (41, 39), (41, 42), (41, 43), (42, 38), (42, 39), (42, 41), (42, 43), (43, 38), (43, 39), (43, 41), (43, 42)]\n"
          ]
        }
      ]
    },
    {
      "cell_type": "code",
      "source": [
        "'''\n",
        "#save graphs with pickle\n",
        "import pickle\n",
        "\n",
        "# save graph object to file\n",
        "a=[IG,IG,IG]\n",
        "pickle.dump(a, open('filename.pickle', 'wb'))\n",
        "print_graph(a[1])\n",
        "\n",
        "# load graph object from file\n",
        "b = pickle.load(open('filename.pickle', 'rb'))\n",
        "print(len(b))\n",
        "print_graph(b[1])\n",
        "'''"
      ],
      "metadata": {
        "id": "6HhX9QBnZUyc",
        "colab": {
          "base_uri": "https://localhost:8080/",
          "height": 54
        },
        "outputId": "13e7a1e1-5cb5-4037-904f-0c944fca2e91"
      },
      "execution_count": null,
      "outputs": [
        {
          "output_type": "execute_result",
          "data": {
            "text/plain": [
              "\"\\n#save graphs with pickle\\nimport pickle\\n\\n# save graph object to file\\na=[IG,IG,IG]\\npickle.dump(a, open('filename.pickle', 'wb'))\\nprint_graph(a[1])\\n\\n# load graph object from file\\nb = pickle.load(open('filename.pickle', 'rb'))\\nprint(len(b))\\nprint_graph(b[1])\\n\""
            ],
            "application/vnd.google.colaboratory.intrinsic+json": {
              "type": "string"
            }
          },
          "metadata": {},
          "execution_count": 239
        }
      ]
    }
  ]
}