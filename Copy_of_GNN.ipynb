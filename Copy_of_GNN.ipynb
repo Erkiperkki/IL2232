{
  "nbformat": 4,
  "nbformat_minor": 0,
  "metadata": {
    "colab": {
      "provenance": [],
      "authorship_tag": "ABX9TyMvV9vbB3clhYVO1La3b/fn",
      "include_colab_link": true
    },
    "kernelspec": {
      "name": "python3",
      "display_name": "Python 3"
    },
    "language_info": {
      "name": "python"
    }
  },
  "cells": [
    {
      "cell_type": "markdown",
      "metadata": {
        "id": "view-in-github",
        "colab_type": "text"
      },
      "source": [
        "<a href=\"https://colab.research.google.com/github/Erkiperkki/IL2232/blob/main/Copy_of_GNN.ipynb\" target=\"_parent\"><img src=\"https://colab.research.google.com/assets/colab-badge.svg\" alt=\"Open In Colab\"/></a>"
      ]
    },
    {
      "cell_type": "code",
      "source": [
        "!pip install torch_geometric\n",
        "\n",
        "import networkx as nx\n",
        "\n",
        "import torch\n",
        "from torch import Tensor\n",
        "\n",
        "import torch_geometric\n",
        "from torch_geometric.utils import from_networkx\n",
        "from torch_geometric.data import HeteroData\n",
        "# import torch_geometric.transforms as T\n",
        "\n",
        "import numpy as np\n",
        "# https://colab.research.google.com/github/Erkiperkki/IL2232/blob/main/GNN.ipynb\n",
        "\n",
        "'''\n",
        "Todoo:\n",
        "fix results to vector / Erik\n",
        "Compare with mlp\n",
        "add features from nodes /Erik\n",
        "'''"
      ],
      "metadata": {
        "id": "TFudoUnorwrj",
        "colab": {
          "base_uri": "https://localhost:8080/",
          "height": 401
        },
        "outputId": "86ba287b-9afb-4b87-eff7-31367768d806"
      },
      "execution_count": 1,
      "outputs": [
        {
          "output_type": "stream",
          "name": "stdout",
          "text": [
            "Collecting torch_geometric\n",
            "  Downloading torch_geometric-2.4.0-py3-none-any.whl (1.0 MB)\n",
            "\u001b[2K     \u001b[90m━━━━━━━━━━━━━━━━━━━━━━━━━━━━━━━━━━━━━━━━\u001b[0m \u001b[32m1.0/1.0 MB\u001b[0m \u001b[31m7.7 MB/s\u001b[0m eta \u001b[36m0:00:00\u001b[0m\n",
            "\u001b[?25hRequirement already satisfied: tqdm in /usr/local/lib/python3.10/dist-packages (from torch_geometric) (4.66.1)\n",
            "Requirement already satisfied: numpy in /usr/local/lib/python3.10/dist-packages (from torch_geometric) (1.23.5)\n",
            "Requirement already satisfied: scipy in /usr/local/lib/python3.10/dist-packages (from torch_geometric) (1.11.4)\n",
            "Requirement already satisfied: jinja2 in /usr/local/lib/python3.10/dist-packages (from torch_geometric) (3.1.2)\n",
            "Requirement already satisfied: requests in /usr/local/lib/python3.10/dist-packages (from torch_geometric) (2.31.0)\n",
            "Requirement already satisfied: pyparsing in /usr/local/lib/python3.10/dist-packages (from torch_geometric) (3.1.1)\n",
            "Requirement already satisfied: scikit-learn in /usr/local/lib/python3.10/dist-packages (from torch_geometric) (1.2.2)\n",
            "Requirement already satisfied: psutil>=5.8.0 in /usr/local/lib/python3.10/dist-packages (from torch_geometric) (5.9.5)\n",
            "Requirement already satisfied: MarkupSafe>=2.0 in /usr/local/lib/python3.10/dist-packages (from jinja2->torch_geometric) (2.1.3)\n",
            "Requirement already satisfied: charset-normalizer<4,>=2 in /usr/local/lib/python3.10/dist-packages (from requests->torch_geometric) (3.3.2)\n",
            "Requirement already satisfied: idna<4,>=2.5 in /usr/local/lib/python3.10/dist-packages (from requests->torch_geometric) (3.6)\n",
            "Requirement already satisfied: urllib3<3,>=1.21.1 in /usr/local/lib/python3.10/dist-packages (from requests->torch_geometric) (2.0.7)\n",
            "Requirement already satisfied: certifi>=2017.4.17 in /usr/local/lib/python3.10/dist-packages (from requests->torch_geometric) (2023.11.17)\n",
            "Requirement already satisfied: joblib>=1.1.1 in /usr/local/lib/python3.10/dist-packages (from scikit-learn->torch_geometric) (1.3.2)\n",
            "Requirement already satisfied: threadpoolctl>=2.0.0 in /usr/local/lib/python3.10/dist-packages (from scikit-learn->torch_geometric) (3.2.0)\n",
            "Installing collected packages: torch_geometric\n",
            "Successfully installed torch_geometric-2.4.0\n"
          ]
        },
        {
          "output_type": "execute_result",
          "data": {
            "text/plain": [
              "'\\nTodoo:\\nfix results to vector / Erik\\nCompare with mlp\\nadd features from nodes /Erik\\n'"
            ],
            "application/vnd.google.colaboratory.intrinsic+json": {
              "type": "string"
            }
          },
          "metadata": {},
          "execution_count": 1
        }
      ]
    },
    {
      "cell_type": "code",
      "execution_count": 2,
      "metadata": {
        "colab": {
          "base_uri": "https://localhost:8080/"
        },
        "id": "XSV89xyoK_wM",
        "outputId": "6716c6c2-1eac-4b71-d42c-db94648e6b01"
      },
      "outputs": [
        {
          "output_type": "stream",
          "name": "stdout",
          "text": [
            "Mounted at /content/drive\n"
          ]
        }
      ],
      "source": [
        "from google.colab import drive\n",
        "drive.mount('/content/drive')\n",
        "PATH=\"/content/drive/MyDrive/Embedded Systems Design Project\"\n",
        "NUM_EDGE_CLASSES = 5\n",
        "NUM_NODE_FEATURES = 3\n",
        "XY_SCALE_FACTOR = 1/100 # xy * scale factor to get value for IG graph\n",
        "REMOVE_ISOLETED_NODES = False\n",
        "#/content/drive/MyDrive/Embedded Systems Design Project/output"
      ]
    },
    {
      "cell_type": "code",
      "source": [
        "import torch_geometric.transforms as T\n",
        "\n",
        "dataset=[]\n",
        "num_static=0\n",
        "num_nonstatic=0\n",
        "graph_list=torch.load(PATH + \"/IA_graph_dataset\")\n",
        "group_edge_attrs =([\"label\"])\n",
        "group_node_attrs = ([\"xy\", \"static\"])\n",
        "\n",
        "node_type_names = ([\"data\",\"static\"])\n",
        "edge_type_names=[(\"data\",\"edge\",\"data\"), (\"data\",\"edge\",\"static\"), (\"static\",\"edge\",\"data\"), (\"static\",\"edge\",\"static\")]\n",
        "\n",
        "transform = T.Compose([T.remove_isolated_nodes.RemoveIsolatedNodes()])\n",
        "\n",
        "def get_edge_type_maping(edge_index, edge_type_names, node_types, node_types_names) -> torch.Tensor:\n",
        "  edge_type_list=[]\n",
        "  for i in range(len(d.edge_index[0])):\n",
        "    #provides the type of node as a str to src and dest\n",
        "    src =  node_type_names[node_types[d.edge_index[0][i]]]\n",
        "    dest =  node_type_names[node_types[d.edge_index[1][i]]]\n",
        "    edge_type_list.append(edge_type_names.index((src,\"edge\",dest)))\n",
        "\n",
        "  return torch.Tensor(edge_type_list).long()\n",
        "\n",
        "for g in graph_list:\n",
        "  remapped_g = nx.convert_node_labels_to_integers(g, first_label=0, label_attribute=\"yolo_object_id\") #remaps the ndes (and edges) to format like 0,1,2...N\n",
        "  d = from_networkx(remapped_g, group_node_attrs= group_node_attrs, group_edge_attrs= group_edge_attrs)\n",
        "  if(REMOVE_ISOLETED_NODES and d.has_isolated_nodes()):\n",
        "    d = transform(d)\n",
        "\n",
        "  d.x[:,[1]]=d.x[:,[1]] * XY_SCALE_FACTOR\n",
        "  d.x[:,[0]]=d.x[:,[0]] * XY_SCALE_FACTOR\n",
        "  node_types=(d.x[:,2]).long()\n",
        "  edge_type = get_edge_type_maping(d.edge_index, edge_type_names, node_types, node_type_names)\n",
        "\n",
        "  hd = d.to_heterogeneous(node_type=node_types, edge_type=edge_type, node_type_names=node_type_names, edge_type_names=edge_type_names)\n",
        "  hd[\"data\"].node_id = torch.IntTensor( [i for i,x in enumerate(node_types) if node_type_names[x] == \"data\"] )\n",
        "  hd[\"static\"].node_id =torch.IntTensor( [i for i,x in enumerate(node_types) if node_type_names[x] == \"static\"] )\n",
        "\n",
        "  dataset.append(hd)\n"
      ],
      "metadata": {
        "id": "v0HwzTvUFpFY"
      },
      "execution_count": 3,
      "outputs": []
    },
    {
      "cell_type": "code",
      "source": [
        "import random\n",
        "max_num_data_nodes=max([x[\"data\"].num_nodes for x in dataset])\n",
        "# print([x[\"data\"].num_nodes for x in dataset])\n",
        "if ([x[\"static\"].num_nodes for x in dataset if x[\"static\"].num_nodes]):\n",
        "  max_num_static_nodes=max([x[\"static\"].num_nodes for x in dataset])\n",
        "else:\n",
        "  max_num_static_nodes=0\n",
        "\n",
        "num_train_samples = int(0.7*len(dataset))\n",
        "random.shuffle(dataset)\n",
        "train_dataset = dataset[0:num_train_samples]\n",
        "test_dataset = dataset[num_train_samples:]\n",
        "\n",
        "print(f\"num train data: {len(train_dataset)}\\nnum test data: {len(test_dataset)}\\n\")\n",
        "print(f\"total num of nonstatic nodes: {sum([data['data'].num_nodes for data in dataset])}\")\n",
        "print(f\"total num of static nodes: {sum([data['static'].num_nodes for data in dataset])}\")\n",
        "\n",
        "tot_num_nodes=sum([data.num_nodes for data in dataset])\n",
        "tot_num_edges=sum([data.num_edges for data in dataset])\n",
        "\n",
        "print(f\"\\nTotal number of nodes: {tot_num_nodes}\")\n",
        "print(f\"Average number of nodes per Graph: {tot_num_nodes/len(dataset):.1f}\")\n",
        "print(f\"Total number of edges: {tot_num_edges}\")\n",
        "\n",
        "distrubution = [0 for i in range(NUM_EDGE_CLASSES)]\n",
        "for data in dataset:\n",
        "  for edge_types in data.collect(\"edge_attr\").values():\n",
        "    for egde_label in edge_types:\n",
        "      distrubution[egde_label] += 1\n",
        "\n",
        "print(f\"\"\"\\nDistrubution of edge classes in dataset:\n",
        "          Moving left to right:   {distrubution[0]},    {distrubution[0]/tot_num_edges*100:.2f}%\n",
        "          Moving right to left:   {distrubution[1]},    {distrubution[1]/tot_num_edges*100:.2f}%\n",
        "          Moving forward:         {distrubution[2]},   {distrubution[2]/tot_num_edges*100:.2f}%\n",
        "          Moving backward:        {distrubution[3]},   {distrubution[3]/tot_num_edges*100:.2f}%\n",
        "          No change:              {distrubution[4]},  {distrubution[4]/tot_num_edges*100:.2f}%\n",
        "      \"\"\")\n",
        "\n",
        "\n",
        "\n",
        "print(f\"Dataset Metadata: \", end=\"\")\n",
        "dataset[0].metadata()"
      ],
      "metadata": {
        "id": "yBaEgTqEBZjl",
        "colab": {
          "base_uri": "https://localhost:8080/"
        },
        "outputId": "f15fd7ef-b464-4f9a-c909-2a6d7932d790"
      },
      "execution_count": 4,
      "outputs": [
        {
          "output_type": "stream",
          "name": "stdout",
          "text": [
            "num train data: 593\n",
            "num test data: 255\n",
            "\n",
            "total num of nonstatic nodes: 4688\n",
            "total num of static nodes: 384\n",
            "\n",
            "Total number of nodes: 5072\n",
            "Average number of nodes per Graph: 6.0\n",
            "Total number of edges: 12040\n",
            "\n",
            "Distrubution of edge classes in dataset:\n",
            "          Moving left to right:   40,    0.33%\n",
            "          Moving right to left:   40,    0.33%\n",
            "          Moving forward:         384,   3.19%\n",
            "          Moving backward:        384,   3.19%\n",
            "          No change:              11192,  92.96%\n",
            "      \n",
            "Dataset Metadata: "
          ]
        },
        {
          "output_type": "execute_result",
          "data": {
            "text/plain": [
              "(['data', 'static'],\n",
              " [('data', 'edge', 'data'),\n",
              "  ('data', 'edge', 'static'),\n",
              "  ('static', 'edge', 'data'),\n",
              "  ('static', 'edge', 'static')])"
            ]
          },
          "metadata": {},
          "execution_count": 4
        }
      ]
    },
    {
      "cell_type": "code",
      "source": [
        "from torch_geometric.loader import DataLoader\n",
        "\n",
        "train_loader = DataLoader(train_dataset, batch_size=1, shuffle=True)\n",
        "test_loader = DataLoader(test_dataset, batch_size=1, shuffle=False)"
      ],
      "metadata": {
        "id": "uxkDlFTJAaR7"
      },
      "execution_count": 5,
      "outputs": []
    },
    {
      "cell_type": "code",
      "source": [
        "\n",
        "from torch_geometric.nn import SAGEConv, to_hetero\n",
        "import torch.nn.functional as F\n",
        "\n",
        "class GNN(torch.nn.Module):\n",
        "    def __init__(self, hidden_channels):\n",
        "        super().__init__()\n",
        "\n",
        "        self.conv1 = SAGEConv(hidden_channels, hidden_channels)\n",
        "        self.conv2 = SAGEConv(hidden_channels, NUM_EDGE_CLASSES)\n",
        "\n",
        "    def forward(self, x: Tensor, edge_index: Tensor) -> Tensor:\n",
        "        x = F.relu(self.conv1(x, edge_index))\n",
        "        x = self.conv2(x, edge_index)\n",
        "        return (x)\n",
        "\n",
        "# Our final classifier applies the dot-product between source and destination\n",
        "# node embeddings to derive edge-level predictions:\n",
        "class Classifier(torch.nn.Module):\n",
        "    def forward(self, x_user: Tensor, edge_label_index: Tensor) -> Tensor:\n",
        "        # Convert node embeddings to edge-level representations:\n",
        "        edge_feat_user = x_user[edge_label_index[0]]\n",
        "        edge_feat_movie = x_user[edge_label_index[1]]\n",
        "\n",
        "        # Apply dot-product to get a prediction per supervision edge:\n",
        "        return (edge_feat_user * edge_feat_movie)#.sum(dim=-1)\n",
        "\n",
        "\n",
        "class Model(torch.nn.Module):\n",
        "    def __init__(self, hidden_channels):\n",
        "        super().__init__()\n",
        "        # Since the dataset does not come with rich features, we also learn two\n",
        "        # embedding matrices for users and movies:\n",
        "\n",
        "        self.data_lin = torch.nn.Linear(NUM_NODE_FEATURES, hidden_channels)\n",
        "        self.static_lin = torch.nn.Linear(NUM_NODE_FEATURES, hidden_channels)\n",
        "\n",
        "        self.data_emb = torch.nn.Embedding(max_num_data_nodes+max_num_static_nodes, hidden_channels)\n",
        "        self.static_emb = torch.nn.Embedding(max_num_static_nodes+max_num_data_nodes, hidden_channels)\n",
        "\n",
        "        # Instantiate homogeneous GNN:\n",
        "        self.gnn = GNN(hidden_channels)\n",
        "\n",
        "        # Convert GNN model into a heterogeneous variant:\n",
        "        # self.gnn = to_hetero(self.gnn, metadata = (['data'], [('data',\"edge\",'data')]) )\n",
        "        self.gnn = to_hetero(self.gnn, metadata =dataset[0].metadata())\n",
        "\n",
        "        self.classifier = Classifier()\n",
        "\n",
        "    def forward(self, data: HeteroData) -> Tensor:\n",
        "        x_dict = {\n",
        "          \"data\":   self.data_lin(data[\"data\"].x.float()) + self.data_emb(data[\"data\"].node_id),\n",
        "          \"static\":   self.static_lin(data[\"static\"].x.float()) + self.static_emb(data[\"static\"].node_id)\n",
        "        }\n",
        "\n",
        "        # `x_dict` holds feature matrices of all node types\n",
        "        # `edge_index_dict` holds all edge indices of all edge types\n",
        "        x_dict = self.gnn(x_dict, data.edge_index_dict)\n",
        "        pred = self.classifier(\n",
        "            x_dict[\"data\"],\n",
        "            data['data', 'edge', 'data'].edge_index\n",
        "        )\n",
        "        return pred\n"
      ],
      "metadata": {
        "id": "_QItaZ3KN99R"
      },
      "execution_count": 23,
      "outputs": []
    },
    {
      "cell_type": "code",
      "source": [
        "UNDERSAMPLE_TRAIN_EDGES = True\n",
        "TRAIN_NOCHANGE_RATIO = 0.98 #ratio to undersample the 'No Change' label by\n",
        "\n",
        "model = Model(hidden_channels=64)\n",
        "\n",
        "print(model)\n",
        "\n",
        "import tqdm\n",
        "import torch.nn.functional as F\n",
        "import torch\n",
        "from torch import Tensor\n",
        "\n",
        "device = torch.device('cuda' if torch.cuda.is_available() else 'cpu')\n",
        "print(f\"Device: '{device}'\")\n",
        "\n",
        "model = model.to(device)\n",
        "optimizer = torch.optim.Adam(model.parameters(), lr=0.0001)\n",
        "nc=0\n",
        "nnc=0\n",
        "#changed activation function of the last layer of gnn from nothing to sigmoid to make it fit into 0-1\n",
        "for epoch in range(1, 100):\n",
        "    total_loss = total_examples = 0\n",
        "    for sampled_data in tqdm.tqdm(train_loader):\n",
        "        optimizer.zero_grad()\n",
        "        sampled_data.to(device)\n",
        "        pred = model(sampled_data)\n",
        "        # pred = torch.argmax( model(sampled_data), dim=-1)\n",
        "        ground_truth = sampled_data['data', 'edge', 'data'].edge_attr.reshape(-1)\n",
        "\n",
        "        #add training mask to under sample the nochange (=4) label\n",
        "        if(UNDERSAMPLE_TRAIN_EDGES):\n",
        "          mask=[True if data!=4 or random.random()>TRAIN_NOCHANGE_RATIO else False for data in ground_truth]\n",
        "          pred=pred[mask]\n",
        "          ground_truth=ground_truth[mask]\n",
        "\n",
        "        if(ground_truth.numel()==0):continue\n",
        "\n",
        "\n",
        "        nc+=sum(ground_truth[ground_truth == 4] == 4)\n",
        "        nnc+=len(ground_truth)\n",
        "\n",
        "        loss = F.cross_entropy(pred, ground_truth)\n",
        "        # loss = ((torch.argmax(pred, dim=-1) - ground_truth) ** 2).mean()\n",
        "\n",
        "        # print(f\"pred= {pred}\")\n",
        "        # print(f\"ground truth = {ground_truth}\")\n",
        "        loss.backward()\n",
        "        optimizer.step()\n",
        "        total_loss += float(loss) * pred.numel()\n",
        "        total_examples += pred.numel()\n",
        "\n",
        "        if total_examples>1:break\n",
        "    print(f\"Epoch: {epoch:03d}, Loss: {total_loss / total_examples:.4f}\")\n",
        "\n",
        "if(UNDERSAMPLE_TRAIN_EDGES):\n",
        "  print()\n",
        "  print(f\"Num of 'No Change' edges: {nc}\")\n",
        "  print(f\"Ratio of 'No Change' edges to total: {nc/nnc:.2f}\")"
      ],
      "metadata": {
        "id": "yVC2llbmAaUl",
        "colab": {
          "base_uri": "https://localhost:8080/"
        },
        "outputId": "d12530d3-ad1e-4d24-bdae-76d686e12263"
      },
      "execution_count": 24,
      "outputs": [
        {
          "output_type": "stream",
          "name": "stdout",
          "text": [
            "Model(\n",
            "  (data_lin): Linear(in_features=3, out_features=64, bias=True)\n",
            "  (static_lin): Linear(in_features=3, out_features=64, bias=True)\n",
            "  (data_emb): Embedding(23, 64)\n",
            "  (static_emb): Embedding(23, 64)\n",
            "  (gnn): GraphModule(\n",
            "    (conv1): ModuleDict(\n",
            "      (data__edge__data): SAGEConv(64, 64, aggr=mean)\n",
            "      (data__edge__static): SAGEConv(64, 64, aggr=mean)\n",
            "      (static__edge__data): SAGEConv(64, 64, aggr=mean)\n",
            "      (static__edge__static): SAGEConv(64, 64, aggr=mean)\n",
            "    )\n",
            "    (conv2): ModuleDict(\n",
            "      (data__edge__data): SAGEConv(64, 5, aggr=mean)\n",
            "      (data__edge__static): SAGEConv(64, 5, aggr=mean)\n",
            "      (static__edge__data): SAGEConv(64, 5, aggr=mean)\n",
            "      (static__edge__static): SAGEConv(64, 5, aggr=mean)\n",
            "    )\n",
            "  )\n",
            "  (classifier): Classifier()\n",
            ")\n",
            "Device: 'cpu'\n"
          ]
        },
        {
          "output_type": "stream",
          "name": "stderr",
          "text": [
            "  0%|          | 0/593 [00:00<?, ?it/s]\n"
          ]
        },
        {
          "output_type": "stream",
          "name": "stdout",
          "text": [
            "Epoch: 001, Loss: 1.3610\n"
          ]
        },
        {
          "output_type": "stream",
          "name": "stderr",
          "text": [
            "  0%|          | 1/593 [00:00<00:17, 32.96it/s]\n"
          ]
        },
        {
          "output_type": "stream",
          "name": "stdout",
          "text": [
            "Epoch: 002, Loss: 3.5331\n"
          ]
        },
        {
          "output_type": "stream",
          "name": "stderr",
          "text": [
            "  0%|          | 1/593 [00:00<00:16, 35.00it/s]\n"
          ]
        },
        {
          "output_type": "stream",
          "name": "stdout",
          "text": [
            "Epoch: 003, Loss: 8.6516\n"
          ]
        },
        {
          "output_type": "stream",
          "name": "stderr",
          "text": [
            "  0%|          | 1/593 [00:00<00:18, 32.25it/s]\n"
          ]
        },
        {
          "output_type": "stream",
          "name": "stdout",
          "text": [
            "Epoch: 004, Loss: 4.1630\n"
          ]
        },
        {
          "output_type": "stream",
          "name": "stderr",
          "text": [
            "  0%|          | 0/593 [00:00<?, ?it/s]\n"
          ]
        },
        {
          "output_type": "stream",
          "name": "stdout",
          "text": [
            "Epoch: 005, Loss: 2.6295\n"
          ]
        },
        {
          "output_type": "stream",
          "name": "stderr",
          "text": [
            "  0%|          | 0/593 [00:00<?, ?it/s]\n"
          ]
        },
        {
          "output_type": "stream",
          "name": "stdout",
          "text": [
            "Epoch: 006, Loss: 0.5750\n"
          ]
        },
        {
          "output_type": "stream",
          "name": "stderr",
          "text": [
            "  0%|          | 0/593 [00:00<?, ?it/s]\n"
          ]
        },
        {
          "output_type": "stream",
          "name": "stdout",
          "text": [
            "Epoch: 007, Loss: 0.0219\n"
          ]
        },
        {
          "output_type": "stream",
          "name": "stderr",
          "text": [
            "  0%|          | 0/593 [00:00<?, ?it/s]\n"
          ]
        },
        {
          "output_type": "stream",
          "name": "stdout",
          "text": [
            "Epoch: 008, Loss: 3.6355\n"
          ]
        },
        {
          "output_type": "stream",
          "name": "stderr",
          "text": [
            "  0%|          | 0/593 [00:00<?, ?it/s]\n"
          ]
        },
        {
          "output_type": "stream",
          "name": "stdout",
          "text": [
            "Epoch: 009, Loss: 3.5259\n"
          ]
        },
        {
          "output_type": "stream",
          "name": "stderr",
          "text": [
            "  0%|          | 1/593 [00:00<00:25, 23.59it/s]\n"
          ]
        },
        {
          "output_type": "stream",
          "name": "stdout",
          "text": [
            "Epoch: 010, Loss: 7.5207\n"
          ]
        },
        {
          "output_type": "stream",
          "name": "stderr",
          "text": [
            "  1%|          | 3/593 [00:00<00:10, 56.56it/s]\n"
          ]
        },
        {
          "output_type": "stream",
          "name": "stdout",
          "text": [
            "Epoch: 011, Loss: 1.3996\n"
          ]
        },
        {
          "output_type": "stream",
          "name": "stderr",
          "text": [
            "  1%|          | 4/593 [00:00<00:09, 62.18it/s]\n"
          ]
        },
        {
          "output_type": "stream",
          "name": "stdout",
          "text": [
            "Epoch: 012, Loss: 1.2881\n"
          ]
        },
        {
          "output_type": "stream",
          "name": "stderr",
          "text": [
            "  0%|          | 0/593 [00:00<?, ?it/s]\n"
          ]
        },
        {
          "output_type": "stream",
          "name": "stdout",
          "text": [
            "Epoch: 013, Loss: 1.9469\n"
          ]
        },
        {
          "output_type": "stream",
          "name": "stderr",
          "text": [
            "  0%|          | 0/593 [00:00<?, ?it/s]\n"
          ]
        },
        {
          "output_type": "stream",
          "name": "stdout",
          "text": [
            "Epoch: 014, Loss: 1.8215\n"
          ]
        },
        {
          "output_type": "stream",
          "name": "stderr",
          "text": [
            "  0%|          | 0/593 [00:00<?, ?it/s]\n"
          ]
        },
        {
          "output_type": "stream",
          "name": "stdout",
          "text": [
            "Epoch: 015, Loss: 3.8530\n"
          ]
        },
        {
          "output_type": "stream",
          "name": "stderr",
          "text": [
            "  0%|          | 0/593 [00:00<?, ?it/s]\n"
          ]
        },
        {
          "output_type": "stream",
          "name": "stdout",
          "text": [
            "Epoch: 016, Loss: 1.6395\n"
          ]
        },
        {
          "output_type": "stream",
          "name": "stderr",
          "text": [
            "  0%|          | 1/593 [00:00<00:20, 29.58it/s]\n"
          ]
        },
        {
          "output_type": "stream",
          "name": "stdout",
          "text": [
            "Epoch: 017, Loss: 2.9008\n"
          ]
        },
        {
          "output_type": "stream",
          "name": "stderr",
          "text": [
            "  0%|          | 0/593 [00:00<?, ?it/s]\n"
          ]
        },
        {
          "output_type": "stream",
          "name": "stdout",
          "text": [
            "Epoch: 018, Loss: 0.5696\n"
          ]
        },
        {
          "output_type": "stream",
          "name": "stderr",
          "text": [
            "  0%|          | 0/593 [00:00<?, ?it/s]\n"
          ]
        },
        {
          "output_type": "stream",
          "name": "stdout",
          "text": [
            "Epoch: 019, Loss: 2.2446\n"
          ]
        },
        {
          "output_type": "stream",
          "name": "stderr",
          "text": [
            "  0%|          | 1/593 [00:00<00:25, 23.36it/s]\n"
          ]
        },
        {
          "output_type": "stream",
          "name": "stdout",
          "text": [
            "Epoch: 020, Loss: 4.6920\n"
          ]
        },
        {
          "output_type": "stream",
          "name": "stderr",
          "text": [
            "  0%|          | 2/593 [00:00<00:19, 29.82it/s]\n"
          ]
        },
        {
          "output_type": "stream",
          "name": "stdout",
          "text": [
            "Epoch: 021, Loss: 3.7659\n"
          ]
        },
        {
          "output_type": "stream",
          "name": "stderr",
          "text": [
            "  0%|          | 0/593 [00:00<?, ?it/s]\n"
          ]
        },
        {
          "output_type": "stream",
          "name": "stdout",
          "text": [
            "Epoch: 022, Loss: 1.6005\n"
          ]
        },
        {
          "output_type": "stream",
          "name": "stderr",
          "text": [
            "  0%|          | 0/593 [00:00<?, ?it/s]"
          ]
        },
        {
          "output_type": "stream",
          "name": "stdout",
          "text": [
            "Epoch: 023, Loss: 3.1486"
          ]
        },
        {
          "output_type": "stream",
          "name": "stderr",
          "text": [
            "\n"
          ]
        },
        {
          "output_type": "stream",
          "name": "stdout",
          "text": [
            "\n"
          ]
        },
        {
          "output_type": "stream",
          "name": "stderr",
          "text": [
            "  0%|          | 2/593 [00:00<00:13, 42.53it/s]\n"
          ]
        },
        {
          "output_type": "stream",
          "name": "stdout",
          "text": [
            "Epoch: 024, Loss: 2.6320\n"
          ]
        },
        {
          "output_type": "stream",
          "name": "stderr",
          "text": [
            "  0%|          | 2/593 [00:00<00:11, 50.74it/s]\n"
          ]
        },
        {
          "output_type": "stream",
          "name": "stdout",
          "text": [
            "Epoch: 025, Loss: 2.1090\n"
          ]
        },
        {
          "output_type": "stream",
          "name": "stderr",
          "text": [
            "  2%|▏         | 10/593 [00:00<00:10, 55.18it/s]\n"
          ]
        },
        {
          "output_type": "stream",
          "name": "stdout",
          "text": [
            "Epoch: 026, Loss: 1.7935\n"
          ]
        },
        {
          "output_type": "stream",
          "name": "stderr",
          "text": [
            "  0%|          | 0/593 [00:00<?, ?it/s]\n"
          ]
        },
        {
          "output_type": "stream",
          "name": "stdout",
          "text": [
            "Epoch: 027, Loss: 1.4040\n"
          ]
        },
        {
          "output_type": "stream",
          "name": "stderr",
          "text": [
            "  0%|          | 0/593 [00:00<?, ?it/s]\n"
          ]
        },
        {
          "output_type": "stream",
          "name": "stdout",
          "text": [
            "Epoch: 028, Loss: 1.2651\n"
          ]
        },
        {
          "output_type": "stream",
          "name": "stderr",
          "text": [
            "  2%|▏         | 9/593 [00:00<00:08, 67.25it/s]\n"
          ]
        },
        {
          "output_type": "stream",
          "name": "stdout",
          "text": [
            "Epoch: 029, Loss: 1.8310\n"
          ]
        },
        {
          "output_type": "stream",
          "name": "stderr",
          "text": [
            "  0%|          | 2/593 [00:00<00:13, 43.80it/s]\n"
          ]
        },
        {
          "output_type": "stream",
          "name": "stdout",
          "text": [
            "Epoch: 030, Loss: 1.3222\n"
          ]
        },
        {
          "output_type": "stream",
          "name": "stderr",
          "text": [
            "  0%|          | 0/593 [00:00<?, ?it/s]\n"
          ]
        },
        {
          "output_type": "stream",
          "name": "stdout",
          "text": [
            "Epoch: 031, Loss: 2.4386\n"
          ]
        },
        {
          "output_type": "stream",
          "name": "stderr",
          "text": [
            "  0%|          | 2/593 [00:00<00:15, 38.84it/s]\n"
          ]
        },
        {
          "output_type": "stream",
          "name": "stdout",
          "text": [
            "Epoch: 032, Loss: 1.5219\n"
          ]
        },
        {
          "output_type": "stream",
          "name": "stderr",
          "text": [
            "  0%|          | 2/593 [00:00<00:14, 41.27it/s]\n"
          ]
        },
        {
          "output_type": "stream",
          "name": "stdout",
          "text": [
            "Epoch: 033, Loss: 0.9625\n"
          ]
        },
        {
          "output_type": "stream",
          "name": "stderr",
          "text": [
            "  0%|          | 0/593 [00:00<?, ?it/s]\n"
          ]
        },
        {
          "output_type": "stream",
          "name": "stdout",
          "text": [
            "Epoch: 034, Loss: 6.6674\n"
          ]
        },
        {
          "output_type": "stream",
          "name": "stderr",
          "text": [
            "  1%|          | 3/593 [00:00<00:11, 51.05it/s]\n"
          ]
        },
        {
          "output_type": "stream",
          "name": "stdout",
          "text": [
            "Epoch: 035, Loss: 1.0871\n"
          ]
        },
        {
          "output_type": "stream",
          "name": "stderr",
          "text": [
            "  0%|          | 2/593 [00:00<00:19, 30.90it/s]\n"
          ]
        },
        {
          "output_type": "stream",
          "name": "stdout",
          "text": [
            "Epoch: 036, Loss: 1.4803\n"
          ]
        },
        {
          "output_type": "stream",
          "name": "stderr",
          "text": [
            "  1%|          | 3/593 [00:00<00:13, 42.40it/s]\n"
          ]
        },
        {
          "output_type": "stream",
          "name": "stdout",
          "text": [
            "Epoch: 037, Loss: 1.0692\n"
          ]
        },
        {
          "output_type": "stream",
          "name": "stderr",
          "text": [
            "  1%|          | 5/593 [00:00<00:10, 56.01it/s]\n"
          ]
        },
        {
          "output_type": "stream",
          "name": "stdout",
          "text": [
            "Epoch: 038, Loss: 1.8702\n"
          ]
        },
        {
          "output_type": "stream",
          "name": "stderr",
          "text": [
            "  0%|          | 2/593 [00:00<00:11, 51.65it/s]\n"
          ]
        },
        {
          "output_type": "stream",
          "name": "stdout",
          "text": [
            "Epoch: 039, Loss: 1.4346\n"
          ]
        },
        {
          "output_type": "stream",
          "name": "stderr",
          "text": [
            "  0%|          | 0/593 [00:00<?, ?it/s]\n"
          ]
        },
        {
          "output_type": "stream",
          "name": "stdout",
          "text": [
            "Epoch: 040, Loss: 3.7423\n"
          ]
        },
        {
          "output_type": "stream",
          "name": "stderr",
          "text": [
            "  0%|          | 0/593 [00:00<?, ?it/s]\n"
          ]
        },
        {
          "output_type": "stream",
          "name": "stdout",
          "text": [
            "Epoch: 041, Loss: 2.4109\n"
          ]
        },
        {
          "output_type": "stream",
          "name": "stderr",
          "text": [
            "  0%|          | 1/593 [00:00<00:11, 50.41it/s]\n"
          ]
        },
        {
          "output_type": "stream",
          "name": "stdout",
          "text": [
            "Epoch: 042, Loss: 0.9758\n"
          ]
        },
        {
          "output_type": "stream",
          "name": "stderr",
          "text": [
            "  0%|          | 0/593 [00:00<?, ?it/s]\n"
          ]
        },
        {
          "output_type": "stream",
          "name": "stdout",
          "text": [
            "Epoch: 043, Loss: 4.2957\n"
          ]
        },
        {
          "output_type": "stream",
          "name": "stderr",
          "text": [
            "  0%|          | 1/593 [00:00<00:12, 48.44it/s]\n"
          ]
        },
        {
          "output_type": "stream",
          "name": "stdout",
          "text": [
            "Epoch: 044, Loss: 1.2446\n"
          ]
        },
        {
          "output_type": "stream",
          "name": "stderr",
          "text": [
            "  0%|          | 0/593 [00:00<?, ?it/s]\n"
          ]
        },
        {
          "output_type": "stream",
          "name": "stdout",
          "text": [
            "Epoch: 045, Loss: 1.0052\n"
          ]
        },
        {
          "output_type": "stream",
          "name": "stderr",
          "text": [
            "  1%|          | 4/593 [00:00<00:07, 77.72it/s]\n"
          ]
        },
        {
          "output_type": "stream",
          "name": "stdout",
          "text": [
            "Epoch: 046, Loss: 2.9026\n"
          ]
        },
        {
          "output_type": "stream",
          "name": "stderr",
          "text": [
            "  0%|          | 2/593 [00:00<00:08, 69.95it/s]\n"
          ]
        },
        {
          "output_type": "stream",
          "name": "stdout",
          "text": [
            "Epoch: 047, Loss: 2.5275\n"
          ]
        },
        {
          "output_type": "stream",
          "name": "stderr",
          "text": [
            "  1%|          | 5/593 [00:00<00:05, 105.66it/s]\n"
          ]
        },
        {
          "output_type": "stream",
          "name": "stdout",
          "text": [
            "Epoch: 048, Loss: 1.6027\n"
          ]
        },
        {
          "output_type": "stream",
          "name": "stderr",
          "text": [
            "  0%|          | 0/593 [00:00<?, ?it/s]\n"
          ]
        },
        {
          "output_type": "stream",
          "name": "stdout",
          "text": [
            "Epoch: 049, Loss: 3.8313\n"
          ]
        },
        {
          "output_type": "stream",
          "name": "stderr",
          "text": [
            "  0%|          | 0/593 [00:00<?, ?it/s]\n"
          ]
        },
        {
          "output_type": "stream",
          "name": "stdout",
          "text": [
            "Epoch: 050, Loss: 1.5456\n"
          ]
        },
        {
          "output_type": "stream",
          "name": "stderr",
          "text": [
            "  0%|          | 0/593 [00:00<?, ?it/s]\n"
          ]
        },
        {
          "output_type": "stream",
          "name": "stdout",
          "text": [
            "Epoch: 051, Loss: 1.1612\n"
          ]
        },
        {
          "output_type": "stream",
          "name": "stderr",
          "text": [
            "  0%|          | 1/593 [00:00<00:15, 37.65it/s]\n"
          ]
        },
        {
          "output_type": "stream",
          "name": "stdout",
          "text": [
            "Epoch: 052, Loss: 1.4593\n"
          ]
        },
        {
          "output_type": "stream",
          "name": "stderr",
          "text": [
            "  0%|          | 0/593 [00:00<?, ?it/s]\n"
          ]
        },
        {
          "output_type": "stream",
          "name": "stdout",
          "text": [
            "Epoch: 053, Loss: 1.1637\n"
          ]
        },
        {
          "output_type": "stream",
          "name": "stderr",
          "text": [
            "  1%|          | 3/593 [00:00<00:06, 88.34it/s]\n"
          ]
        },
        {
          "output_type": "stream",
          "name": "stdout",
          "text": [
            "Epoch: 054, Loss: 2.1401\n"
          ]
        },
        {
          "output_type": "stream",
          "name": "stderr",
          "text": [
            "  1%|          | 3/593 [00:00<00:08, 67.06it/s]\n"
          ]
        },
        {
          "output_type": "stream",
          "name": "stdout",
          "text": [
            "Epoch: 055, Loss: 1.2488\n"
          ]
        },
        {
          "output_type": "stream",
          "name": "stderr",
          "text": [
            "  0%|          | 0/593 [00:00<?, ?it/s]\n"
          ]
        },
        {
          "output_type": "stream",
          "name": "stdout",
          "text": [
            "Epoch: 056, Loss: 1.4414\n"
          ]
        },
        {
          "output_type": "stream",
          "name": "stderr",
          "text": [
            "  0%|          | 0/593 [00:00<?, ?it/s]\n"
          ]
        },
        {
          "output_type": "stream",
          "name": "stdout",
          "text": [
            "Epoch: 057, Loss: 1.5064\n"
          ]
        },
        {
          "output_type": "stream",
          "name": "stderr",
          "text": [
            "  0%|          | 0/593 [00:00<?, ?it/s]\n"
          ]
        },
        {
          "output_type": "stream",
          "name": "stdout",
          "text": [
            "Epoch: 058, Loss: 2.0189\n"
          ]
        },
        {
          "output_type": "stream",
          "name": "stderr",
          "text": [
            "  1%|          | 3/593 [00:00<00:09, 62.10it/s]\n"
          ]
        },
        {
          "output_type": "stream",
          "name": "stdout",
          "text": [
            "Epoch: 059, Loss: 1.2103\n"
          ]
        },
        {
          "output_type": "stream",
          "name": "stderr",
          "text": [
            "  1%|          | 4/593 [00:00<00:07, 82.75it/s]\n"
          ]
        },
        {
          "output_type": "stream",
          "name": "stdout",
          "text": [
            "Epoch: 060, Loss: 1.4066\n"
          ]
        },
        {
          "output_type": "stream",
          "name": "stderr",
          "text": [
            "  0%|          | 0/593 [00:00<?, ?it/s]\n"
          ]
        },
        {
          "output_type": "stream",
          "name": "stdout",
          "text": [
            "Epoch: 061, Loss: 1.2176\n"
          ]
        },
        {
          "output_type": "stream",
          "name": "stderr",
          "text": [
            "  0%|          | 1/593 [00:00<00:14, 42.02it/s]\n"
          ]
        },
        {
          "output_type": "stream",
          "name": "stdout",
          "text": [
            "Epoch: 062, Loss: 1.2214\n"
          ]
        },
        {
          "output_type": "stream",
          "name": "stderr",
          "text": [
            "  1%|          | 3/593 [00:00<00:08, 67.70it/s]\n"
          ]
        },
        {
          "output_type": "stream",
          "name": "stdout",
          "text": [
            "Epoch: 063, Loss: 1.4507\n"
          ]
        },
        {
          "output_type": "stream",
          "name": "stderr",
          "text": [
            "  0%|          | 0/593 [00:00<?, ?it/s]\n"
          ]
        },
        {
          "output_type": "stream",
          "name": "stdout",
          "text": [
            "Epoch: 064, Loss: 2.1024\n"
          ]
        },
        {
          "output_type": "stream",
          "name": "stderr",
          "text": [
            "  0%|          | 1/593 [00:00<00:19, 30.05it/s]\n"
          ]
        },
        {
          "output_type": "stream",
          "name": "stdout",
          "text": [
            "Epoch: 065, Loss: 1.0870\n"
          ]
        },
        {
          "output_type": "stream",
          "name": "stderr",
          "text": [
            "  0%|          | 1/593 [00:00<00:16, 36.67it/s]\n"
          ]
        },
        {
          "output_type": "stream",
          "name": "stdout",
          "text": [
            "Epoch: 066, Loss: 1.1293\n"
          ]
        },
        {
          "output_type": "stream",
          "name": "stderr",
          "text": [
            "  0%|          | 0/593 [00:00<?, ?it/s]\n"
          ]
        },
        {
          "output_type": "stream",
          "name": "stdout",
          "text": [
            "Epoch: 067, Loss: 4.6758\n"
          ]
        },
        {
          "output_type": "stream",
          "name": "stderr",
          "text": [
            "  1%|          | 3/593 [00:00<00:06, 94.19it/s]\n"
          ]
        },
        {
          "output_type": "stream",
          "name": "stdout",
          "text": [
            "Epoch: 068, Loss: 1.3758\n"
          ]
        },
        {
          "output_type": "stream",
          "name": "stderr",
          "text": [
            "  0%|          | 2/593 [00:00<00:11, 53.45it/s]\n"
          ]
        },
        {
          "output_type": "stream",
          "name": "stdout",
          "text": [
            "Epoch: 069, Loss: 1.4837\n"
          ]
        },
        {
          "output_type": "stream",
          "name": "stderr",
          "text": [
            "  0%|          | 1/593 [00:00<00:13, 42.71it/s]\n"
          ]
        },
        {
          "output_type": "stream",
          "name": "stdout",
          "text": [
            "Epoch: 070, Loss: 1.0303\n"
          ]
        },
        {
          "output_type": "stream",
          "name": "stderr",
          "text": [
            "  2%|▏         | 9/593 [00:00<00:05, 116.76it/s]\n"
          ]
        },
        {
          "output_type": "stream",
          "name": "stdout",
          "text": [
            "Epoch: 071, Loss: 1.2342\n"
          ]
        },
        {
          "output_type": "stream",
          "name": "stderr",
          "text": [
            "  0%|          | 1/593 [00:00<00:15, 38.97it/s]\n"
          ]
        },
        {
          "output_type": "stream",
          "name": "stdout",
          "text": [
            "Epoch: 072, Loss: 1.0861\n"
          ]
        },
        {
          "output_type": "stream",
          "name": "stderr",
          "text": [
            "  0%|          | 1/593 [00:00<00:14, 42.22it/s]\n"
          ]
        },
        {
          "output_type": "stream",
          "name": "stdout",
          "text": [
            "Epoch: 073, Loss: 1.5230\n"
          ]
        },
        {
          "output_type": "stream",
          "name": "stderr",
          "text": [
            "  1%|          | 3/593 [00:00<00:07, 82.85it/s]\n"
          ]
        },
        {
          "output_type": "stream",
          "name": "stdout",
          "text": [
            "Epoch: 074, Loss: 1.1693\n"
          ]
        },
        {
          "output_type": "stream",
          "name": "stderr",
          "text": [
            "  0%|          | 0/593 [00:00<?, ?it/s]\n"
          ]
        },
        {
          "output_type": "stream",
          "name": "stdout",
          "text": [
            "Epoch: 075, Loss: 1.0019\n"
          ]
        },
        {
          "output_type": "stream",
          "name": "stderr",
          "text": [
            "  0%|          | 0/593 [00:00<?, ?it/s]\n"
          ]
        },
        {
          "output_type": "stream",
          "name": "stdout",
          "text": [
            "Epoch: 076, Loss: 2.0839\n"
          ]
        },
        {
          "output_type": "stream",
          "name": "stderr",
          "text": [
            "  1%|          | 7/593 [00:00<00:05, 98.11it/s]\n"
          ]
        },
        {
          "output_type": "stream",
          "name": "stdout",
          "text": [
            "Epoch: 077, Loss: 1.0179\n"
          ]
        },
        {
          "output_type": "stream",
          "name": "stderr",
          "text": [
            "  1%|          | 3/593 [00:00<00:07, 74.42it/s]\n"
          ]
        },
        {
          "output_type": "stream",
          "name": "stdout",
          "text": [
            "Epoch: 078, Loss: 1.1647\n"
          ]
        },
        {
          "output_type": "stream",
          "name": "stderr",
          "text": [
            "  1%|          | 3/593 [00:00<00:07, 83.43it/s]\n"
          ]
        },
        {
          "output_type": "stream",
          "name": "stdout",
          "text": [
            "Epoch: 079, Loss: 1.9706\n"
          ]
        },
        {
          "output_type": "stream",
          "name": "stderr",
          "text": [
            "  0%|          | 1/593 [00:00<00:15, 38.06it/s]\n"
          ]
        },
        {
          "output_type": "stream",
          "name": "stdout",
          "text": [
            "Epoch: 080, Loss: 0.0226\n"
          ]
        },
        {
          "output_type": "stream",
          "name": "stderr",
          "text": [
            "  0%|          | 1/593 [00:00<00:16, 36.82it/s]\n"
          ]
        },
        {
          "output_type": "stream",
          "name": "stdout",
          "text": [
            "Epoch: 081, Loss: 2.5153\n"
          ]
        },
        {
          "output_type": "stream",
          "name": "stderr",
          "text": [
            "  0%|          | 0/593 [00:00<?, ?it/s]\n"
          ]
        },
        {
          "output_type": "stream",
          "name": "stdout",
          "text": [
            "Epoch: 082, Loss: 0.9944\n"
          ]
        },
        {
          "output_type": "stream",
          "name": "stderr",
          "text": [
            "  0%|          | 0/593 [00:00<?, ?it/s]\n"
          ]
        },
        {
          "output_type": "stream",
          "name": "stdout",
          "text": [
            "Epoch: 083, Loss: 2.8663\n"
          ]
        },
        {
          "output_type": "stream",
          "name": "stderr",
          "text": [
            "  0%|          | 0/593 [00:00<?, ?it/s]\n"
          ]
        },
        {
          "output_type": "stream",
          "name": "stdout",
          "text": [
            "Epoch: 084, Loss: 1.7797\n"
          ]
        },
        {
          "output_type": "stream",
          "name": "stderr",
          "text": [
            "  0%|          | 2/593 [00:00<00:08, 66.16it/s]\n"
          ]
        },
        {
          "output_type": "stream",
          "name": "stdout",
          "text": [
            "Epoch: 085, Loss: 1.2037\n"
          ]
        },
        {
          "output_type": "stream",
          "name": "stderr",
          "text": [
            "  0%|          | 2/593 [00:00<00:12, 48.85it/s]\n"
          ]
        },
        {
          "output_type": "stream",
          "name": "stdout",
          "text": [
            "Epoch: 086, Loss: 1.0293\n"
          ]
        },
        {
          "output_type": "stream",
          "name": "stderr",
          "text": [
            "  0%|          | 0/593 [00:00<?, ?it/s]\n"
          ]
        },
        {
          "output_type": "stream",
          "name": "stdout",
          "text": [
            "Epoch: 087, Loss: 1.3181\n"
          ]
        },
        {
          "output_type": "stream",
          "name": "stderr",
          "text": [
            "  0%|          | 2/593 [00:00<00:07, 74.36it/s]\n"
          ]
        },
        {
          "output_type": "stream",
          "name": "stdout",
          "text": [
            "Epoch: 088, Loss: 1.1155\n"
          ]
        },
        {
          "output_type": "stream",
          "name": "stderr",
          "text": [
            "  0%|          | 1/593 [00:00<00:17, 33.67it/s]\n"
          ]
        },
        {
          "output_type": "stream",
          "name": "stdout",
          "text": [
            "Epoch: 089, Loss: 1.0200\n"
          ]
        },
        {
          "output_type": "stream",
          "name": "stderr",
          "text": [
            "  1%|          | 3/593 [00:00<00:07, 74.03it/s]\n"
          ]
        },
        {
          "output_type": "stream",
          "name": "stdout",
          "text": [
            "Epoch: 090, Loss: 1.0590\n"
          ]
        },
        {
          "output_type": "stream",
          "name": "stderr",
          "text": [
            "  0%|          | 1/593 [00:00<00:23, 25.35it/s]\n"
          ]
        },
        {
          "output_type": "stream",
          "name": "stdout",
          "text": [
            "Epoch: 091, Loss: 1.4037\n"
          ]
        },
        {
          "output_type": "stream",
          "name": "stderr",
          "text": [
            "  1%|          | 3/593 [00:00<00:09, 61.67it/s]\n"
          ]
        },
        {
          "output_type": "stream",
          "name": "stdout",
          "text": [
            "Epoch: 092, Loss: 2.7976\n"
          ]
        },
        {
          "output_type": "stream",
          "name": "stderr",
          "text": [
            "  0%|          | 1/593 [00:00<00:21, 27.76it/s]\n"
          ]
        },
        {
          "output_type": "stream",
          "name": "stdout",
          "text": [
            "Epoch: 093, Loss: 1.3316\n"
          ]
        },
        {
          "output_type": "stream",
          "name": "stderr",
          "text": [
            "  0%|          | 1/593 [00:00<00:14, 40.86it/s]\n"
          ]
        },
        {
          "output_type": "stream",
          "name": "stdout",
          "text": [
            "Epoch: 094, Loss: 1.1766\n"
          ]
        },
        {
          "output_type": "stream",
          "name": "stderr",
          "text": [
            "  0%|          | 0/593 [00:00<?, ?it/s]\n"
          ]
        },
        {
          "output_type": "stream",
          "name": "stdout",
          "text": [
            "Epoch: 095, Loss: 1.5648\n"
          ]
        },
        {
          "output_type": "stream",
          "name": "stderr",
          "text": [
            "  1%|          | 4/593 [00:00<00:06, 97.44it/s]\n"
          ]
        },
        {
          "output_type": "stream",
          "name": "stdout",
          "text": [
            "Epoch: 096, Loss: 1.5642\n"
          ]
        },
        {
          "output_type": "stream",
          "name": "stderr",
          "text": [
            "  0%|          | 1/593 [00:00<00:17, 33.87it/s]\n"
          ]
        },
        {
          "output_type": "stream",
          "name": "stdout",
          "text": [
            "Epoch: 097, Loss: 1.2883\n"
          ]
        },
        {
          "output_type": "stream",
          "name": "stderr",
          "text": [
            "  1%|          | 3/593 [00:00<00:07, 79.89it/s]\n"
          ]
        },
        {
          "output_type": "stream",
          "name": "stdout",
          "text": [
            "Epoch: 098, Loss: 3.8993\n"
          ]
        },
        {
          "output_type": "stream",
          "name": "stderr",
          "text": [
            "  0%|          | 1/593 [00:00<00:14, 40.39it/s]\n"
          ]
        },
        {
          "output_type": "stream",
          "name": "stdout",
          "text": [
            "Epoch: 099, Loss: 1.0659\n",
            "\n",
            "Num of 'No Change' edges: 55\n",
            "Ratio of 'No Change' edges to total: 0.18\n"
          ]
        }
      ]
    },
    {
      "cell_type": "code",
      "source": [
        "UNDERSAMPLE_TEST_EDGES = True\n",
        "TEST_NOCHANGE_RATIO = 1 #ratio to undersample the 'No Change' label by\n",
        "\n",
        "preds = []\n",
        "ground_truths = []\n",
        "right_graph=0\n",
        "right_edge=0\n",
        "c=0\n",
        "nc=0\n",
        "for sampled_data in (test_dataset):\n",
        "    with torch.no_grad():\n",
        "        sampled_data.to(device)\n",
        "        pred=torch.argmax(model(sampled_data), dim=-1)\n",
        "        ground_truth = sampled_data['data', 'edge', 'data'].edge_attr.reshape(-1)\n",
        "\n",
        "        if(UNDERSAMPLE_TEST_EDGES):\n",
        "          mask=[True if data!=4 or random.random() > TEST_NOCHANGE_RATIO else False for data in ground_truth]\n",
        "          pred=pred[mask]\n",
        "          ground_truth=ground_truth[mask]\n",
        "\n",
        "          nc+=sum(ground_truth[ground_truth == 4] == 4)\n",
        "          print(pred)\n",
        "        if(ground_truth.numel()==0):continue\n",
        "        preds.append(pred)\n",
        "        ground_truths.append(ground_truth)\n",
        "        if(list(pred)==list(ground_truth)): right_graph += 1\n",
        "        for i in range(len(pred)):\n",
        "          if pred[i]==ground_truth[i]:\n",
        "            right_edge+=1\n",
        "          c+=1\n",
        "\n",
        "if(UNDERSAMPLE_TEST_EDGES):\n",
        "  print(f\"Num of 'No Change' edges: {nc}\")\n",
        "  print(f\"Ratio of 'No Change' edges to total: {nc/c:.2f}\")\n",
        "  print()\n",
        "\n",
        "print(f\"Top-1 Edge Acc:{right_edge/c*100:.2f}%, number of right guess: {right_edge}, from {c} number of edges\")\n",
        "print(f\"Complate Graph Acc:{right_graph/len(test_dataset)*100:.2f}%, number of right guess: {right_graph}, from {len(test_dataset)} number of graphs\")\n",
        "\n",
        "pred = torch.cat(preds, dim=0).cpu().numpy()\n",
        "ground_truth = torch.cat(ground_truths, dim=0).cpu().numpy()\n",
        "pred=[int(p) for p in pred]\n",
        "ground_truth=[int(p) for p in ground_truth]"
      ],
      "metadata": {
        "id": "kzkLoQh6cGFU",
        "colab": {
          "base_uri": "https://localhost:8080/"
        },
        "outputId": "e8207b92-f6fa-407a-c4d5-a524c4b5e3e6"
      },
      "execution_count": 15,
      "outputs": [
        {
          "output_type": "stream",
          "name": "stdout",
          "text": [
            "tensor([], dtype=torch.int64)\n",
            "tensor([], dtype=torch.int64)\n",
            "tensor([], dtype=torch.int64)\n",
            "tensor([4, 4, 2, 2])\n",
            "tensor([3, 3])\n",
            "tensor([3, 3])\n",
            "tensor([2, 2])\n",
            "tensor([], dtype=torch.int64)\n",
            "tensor([3, 3])\n",
            "tensor([], dtype=torch.int64)\n",
            "tensor([], dtype=torch.int64)\n",
            "tensor([], dtype=torch.int64)\n",
            "tensor([], dtype=torch.int64)\n",
            "tensor([], dtype=torch.int64)\n",
            "tensor([], dtype=torch.int64)\n",
            "tensor([4, 2, 2, 4, 2, 2, 2, 2, 2, 2])\n",
            "tensor([3, 3])\n",
            "tensor([2, 2, 2, 2])\n",
            "tensor([], dtype=torch.int64)\n",
            "tensor([3, 3])\n",
            "tensor([], dtype=torch.int64)\n",
            "tensor([3, 3])\n",
            "tensor([], dtype=torch.int64)\n",
            "tensor([], dtype=torch.int64)\n",
            "tensor([], dtype=torch.int64)\n",
            "tensor([], dtype=torch.int64)\n",
            "tensor([], dtype=torch.int64)\n",
            "tensor([], dtype=torch.int64)\n",
            "tensor([2, 2])\n",
            "tensor([], dtype=torch.int64)\n",
            "tensor([], dtype=torch.int64)\n",
            "tensor([], dtype=torch.int64)\n",
            "tensor([], dtype=torch.int64)\n",
            "tensor([], dtype=torch.int64)\n",
            "tensor([3, 3])\n",
            "tensor([], dtype=torch.int64)\n",
            "tensor([], dtype=torch.int64)\n",
            "tensor([4, 4, 4, 4])\n",
            "tensor([], dtype=torch.int64)\n",
            "tensor([], dtype=torch.int64)\n",
            "tensor([], dtype=torch.int64)\n",
            "tensor([], dtype=torch.int64)\n",
            "tensor([], dtype=torch.int64)\n",
            "tensor([], dtype=torch.int64)\n",
            "tensor([2, 4, 2, 2, 4, 2])\n",
            "tensor([1, 1])\n",
            "tensor([], dtype=torch.int64)\n",
            "tensor([4, 4])\n",
            "tensor([3, 4, 3, 3, 4, 3])\n",
            "tensor([], dtype=torch.int64)\n",
            "tensor([], dtype=torch.int64)\n",
            "tensor([], dtype=torch.int64)\n",
            "tensor([], dtype=torch.int64)\n",
            "tensor([], dtype=torch.int64)\n",
            "tensor([4, 4])\n",
            "tensor([], dtype=torch.int64)\n",
            "tensor([], dtype=torch.int64)\n",
            "tensor([], dtype=torch.int64)\n",
            "tensor([4, 4])\n",
            "tensor([], dtype=torch.int64)\n",
            "tensor([], dtype=torch.int64)\n",
            "tensor([], dtype=torch.int64)\n",
            "tensor([4, 4, 4, 4])\n",
            "tensor([], dtype=torch.int64)\n",
            "tensor([], dtype=torch.int64)\n",
            "tensor([3, 3])\n",
            "tensor([4, 4, 4, 4])\n",
            "tensor([], dtype=torch.int64)\n",
            "tensor([], dtype=torch.int64)\n",
            "tensor([], dtype=torch.int64)\n",
            "tensor([2, 2, 2, 4, 2, 4, 4, 4])\n",
            "tensor([], dtype=torch.int64)\n",
            "tensor([], dtype=torch.int64)\n",
            "tensor([4, 4, 4, 4, 4, 4, 4, 4])\n",
            "tensor([4, 4, 4, 4, 4, 2, 2, 4, 4, 4])\n",
            "tensor([], dtype=torch.int64)\n",
            "tensor([], dtype=torch.int64)\n",
            "tensor([], dtype=torch.int64)\n",
            "tensor([], dtype=torch.int64)\n",
            "tensor([3, 3])\n",
            "tensor([4, 4])\n",
            "tensor([1, 1])\n",
            "tensor([], dtype=torch.int64)\n",
            "tensor([], dtype=torch.int64)\n",
            "tensor([4, 4])\n",
            "tensor([], dtype=torch.int64)\n",
            "tensor([], dtype=torch.int64)\n",
            "tensor([], dtype=torch.int64)\n",
            "tensor([], dtype=torch.int64)\n",
            "tensor([4, 4, 4, 4])\n",
            "tensor([], dtype=torch.int64)\n",
            "tensor([4, 4])\n",
            "tensor([4, 4, 4, 4])\n",
            "tensor([4, 4])\n",
            "tensor([4, 4, 2, 2])\n",
            "tensor([], dtype=torch.int64)\n",
            "tensor([], dtype=torch.int64)\n",
            "tensor([], dtype=torch.int64)\n",
            "tensor([], dtype=torch.int64)\n",
            "tensor([3, 3])\n",
            "tensor([], dtype=torch.int64)\n",
            "tensor([], dtype=torch.int64)\n",
            "tensor([], dtype=torch.int64)\n",
            "tensor([], dtype=torch.int64)\n",
            "tensor([], dtype=torch.int64)\n",
            "tensor([], dtype=torch.int64)\n",
            "tensor([], dtype=torch.int64)\n",
            "tensor([], dtype=torch.int64)\n",
            "tensor([], dtype=torch.int64)\n",
            "tensor([], dtype=torch.int64)\n",
            "tensor([], dtype=torch.int64)\n",
            "tensor([], dtype=torch.int64)\n",
            "tensor([], dtype=torch.int64)\n",
            "tensor([3, 3])\n",
            "tensor([4, 4])\n",
            "tensor([3, 3])\n",
            "tensor([], dtype=torch.int64)\n",
            "tensor([], dtype=torch.int64)\n",
            "tensor([], dtype=torch.int64)\n",
            "tensor([4, 4, 2, 4, 2, 4])\n",
            "tensor([], dtype=torch.int64)\n",
            "tensor([], dtype=torch.int64)\n",
            "tensor([], dtype=torch.int64)\n",
            "tensor([], dtype=torch.int64)\n",
            "tensor([], dtype=torch.int64)\n",
            "tensor([], dtype=torch.int64)\n",
            "tensor([4, 4, 4, 4])\n",
            "tensor([], dtype=torch.int64)\n",
            "tensor([], dtype=torch.int64)\n",
            "tensor([3, 3])\n",
            "tensor([], dtype=torch.int64)\n",
            "tensor([], dtype=torch.int64)\n",
            "tensor([4, 2, 2, 4, 2, 2, 2, 2, 2, 2])\n",
            "tensor([3, 3])\n",
            "tensor([], dtype=torch.int64)\n",
            "tensor([], dtype=torch.int64)\n",
            "tensor([], dtype=torch.int64)\n",
            "tensor([4, 4])\n",
            "tensor([], dtype=torch.int64)\n",
            "tensor([], dtype=torch.int64)\n",
            "tensor([], dtype=torch.int64)\n",
            "tensor([], dtype=torch.int64)\n",
            "tensor([], dtype=torch.int64)\n",
            "tensor([], dtype=torch.int64)\n",
            "tensor([], dtype=torch.int64)\n",
            "tensor([], dtype=torch.int64)\n",
            "tensor([], dtype=torch.int64)\n",
            "tensor([], dtype=torch.int64)\n",
            "tensor([], dtype=torch.int64)\n",
            "tensor([4, 4])\n",
            "tensor([], dtype=torch.int64)\n",
            "tensor([3, 4, 3, 3, 4, 3])\n",
            "tensor([], dtype=torch.int64)\n",
            "tensor([], dtype=torch.int64)\n",
            "tensor([], dtype=torch.int64)\n",
            "tensor([], dtype=torch.int64)\n",
            "tensor([], dtype=torch.int64)\n",
            "tensor([], dtype=torch.int64)\n",
            "tensor([], dtype=torch.int64)\n",
            "tensor([3, 3])\n",
            "tensor([], dtype=torch.int64)\n",
            "tensor([], dtype=torch.int64)\n",
            "tensor([], dtype=torch.int64)\n",
            "tensor([], dtype=torch.int64)\n",
            "tensor([], dtype=torch.int64)\n",
            "tensor([], dtype=torch.int64)\n",
            "tensor([], dtype=torch.int64)\n",
            "tensor([4, 4])\n",
            "tensor([], dtype=torch.int64)\n",
            "tensor([], dtype=torch.int64)\n",
            "tensor([4, 4, 4, 4])\n",
            "tensor([], dtype=torch.int64)\n",
            "tensor([], dtype=torch.int64)\n",
            "tensor([], dtype=torch.int64)\n",
            "tensor([], dtype=torch.int64)\n",
            "tensor([], dtype=torch.int64)\n",
            "tensor([], dtype=torch.int64)\n",
            "tensor([3, 3])\n",
            "tensor([], dtype=torch.int64)\n",
            "tensor([], dtype=torch.int64)\n",
            "tensor([], dtype=torch.int64)\n",
            "tensor([3, 3])\n",
            "tensor([], dtype=torch.int64)\n",
            "tensor([], dtype=torch.int64)\n",
            "tensor([], dtype=torch.int64)\n",
            "tensor([], dtype=torch.int64)\n",
            "tensor([], dtype=torch.int64)\n",
            "tensor([3, 3])\n",
            "tensor([], dtype=torch.int64)\n",
            "tensor([], dtype=torch.int64)\n",
            "tensor([], dtype=torch.int64)\n",
            "tensor([3, 3])\n",
            "tensor([], dtype=torch.int64)\n",
            "tensor([4, 4])\n",
            "tensor([3, 3])\n",
            "tensor([], dtype=torch.int64)\n",
            "tensor([], dtype=torch.int64)\n",
            "tensor([], dtype=torch.int64)\n",
            "tensor([], dtype=torch.int64)\n",
            "tensor([], dtype=torch.int64)\n",
            "tensor([], dtype=torch.int64)\n",
            "tensor([1, 1])\n",
            "tensor([], dtype=torch.int64)\n",
            "tensor([], dtype=torch.int64)\n",
            "tensor([], dtype=torch.int64)\n",
            "tensor([], dtype=torch.int64)\n",
            "tensor([], dtype=torch.int64)\n",
            "tensor([], dtype=torch.int64)\n",
            "tensor([], dtype=torch.int64)\n",
            "tensor([], dtype=torch.int64)\n",
            "tensor([], dtype=torch.int64)\n",
            "tensor([], dtype=torch.int64)\n",
            "tensor([], dtype=torch.int64)\n",
            "tensor([], dtype=torch.int64)\n",
            "tensor([], dtype=torch.int64)\n",
            "tensor([3, 3])\n",
            "tensor([4, 4, 4, 4, 4, 2, 2, 4, 4, 4])\n",
            "tensor([], dtype=torch.int64)\n",
            "tensor([], dtype=torch.int64)\n",
            "tensor([], dtype=torch.int64)\n",
            "tensor([4, 4, 4, 4])\n",
            "tensor([], dtype=torch.int64)\n",
            "tensor([3, 3])\n",
            "tensor([], dtype=torch.int64)\n",
            "tensor([1, 1])\n",
            "tensor([2, 2, 2, 2, 2, 2, 4, 4])\n",
            "tensor([], dtype=torch.int64)\n",
            "tensor([3, 3])\n",
            "tensor([], dtype=torch.int64)\n",
            "tensor([], dtype=torch.int64)\n",
            "tensor([], dtype=torch.int64)\n",
            "tensor([], dtype=torch.int64)\n",
            "tensor([], dtype=torch.int64)\n",
            "tensor([], dtype=torch.int64)\n",
            "tensor([2, 2])\n",
            "tensor([], dtype=torch.int64)\n",
            "tensor([], dtype=torch.int64)\n",
            "tensor([], dtype=torch.int64)\n",
            "tensor([], dtype=torch.int64)\n",
            "tensor([], dtype=torch.int64)\n",
            "tensor([], dtype=torch.int64)\n",
            "tensor([], dtype=torch.int64)\n",
            "tensor([3, 3])\n",
            "tensor([], dtype=torch.int64)\n",
            "tensor([], dtype=torch.int64)\n",
            "tensor([4, 4, 4, 4])\n",
            "tensor([], dtype=torch.int64)\n",
            "tensor([], dtype=torch.int64)\n",
            "tensor([], dtype=torch.int64)\n",
            "tensor([3, 3])\n",
            "tensor([], dtype=torch.int64)\n",
            "tensor([], dtype=torch.int64)\n",
            "tensor([], dtype=torch.int64)\n",
            "tensor([], dtype=torch.int64)\n",
            "tensor([], dtype=torch.int64)\n",
            "Num of 'No Change' edges: 0\n",
            "Ratio of 'No Change' edges to total: 0.00\n",
            "\n",
            "Top-1 Edge Acc:22.77%, number of right guess: 51, from 224 number of edges\n",
            "Complate Graph Acc:0.00%, number of right guess: 0, from 255 number of graphs\n"
          ]
        }
      ]
    },
    {
      "cell_type": "code",
      "source": [
        "from sklearn.metrics import confusion_matrix\n",
        "import matplotlib.pyplot as plt\n",
        "import seaborn as sns\n",
        "\n",
        "ax= plt.subplot()\n",
        "cm = confusion_matrix(ground_truth, pred, labels=[0,1,2,3,4], normalize=None)\n",
        "sns.heatmap(cm, annot=True, fmt='g', ax=ax, cmap='Greens');  #annot=True to annotate cells, ftm='g' to disable scientific notation\n",
        "\n",
        "ax.set_xlabel('Predicted labels');\n",
        "ax.set_ylabel('True labels');\n",
        "ax.set_title('Confusion Matrix');\n",
        "x_labels=['LTR', 'RTL', 'MF', 'MB', 'NC']\n",
        "y_labels=x_labels\n",
        "ax.xaxis.set_ticklabels(x_labels); ax.yaxis.set_ticklabels(y_labels);"
      ],
      "metadata": {
        "id": "ajLewHP05io0",
        "colab": {
          "base_uri": "https://localhost:8080/",
          "height": 472
        },
        "outputId": "e490dcb6-1415-4344-aabf-e0fc4a80b39b"
      },
      "execution_count": 9,
      "outputs": [
        {
          "output_type": "display_data",
          "data": {
            "text/plain": [
              "<Figure size 640x480 with 2 Axes>"
            ],
            "image/png": "[encoded data removed]"
          },
          "metadata": {}
        }
      ]
    },
    {
      "cell_type": "code",
      "source": [
        "sum([1 if p==4 else 0 for p in ground_truth])"
      ],
      "metadata": {
        "colab": {
          "base_uri": "https://localhost:8080/"
        },
        "id": "r04LJNWXKKBc",
        "outputId": "abc0388e-557a-4cb2-ec1d-cc56663b4f46"
      },
      "execution_count": 10,
      "outputs": [
        {
          "output_type": "execute_result",
          "data": {
            "text/plain": [
              "507"
            ]
          },
          "metadata": {},
          "execution_count": 10
        }
      ]
    },
    {
      "cell_type": "code",
      "source": [
        "#not used!!!\n",
        "raise ValueError"
      ],
      "metadata": {
        "id": "zMR4BPO8G2JJ",
        "colab": {
          "base_uri": "https://localhost:8080/",
          "height": 199
        },
        "outputId": "e31f38a3-66de-46a7-849d-5990dcd4ebc7"
      },
      "execution_count": 11,
      "outputs": [
        {
          "output_type": "error",
          "ename": "ValueError",
          "evalue": "ignored",
          "traceback": [
            "\u001b[0;31m---------------------------------------------------------------------------\u001b[0m",
            "\u001b[0;31mValueError\u001b[0m                                Traceback (most recent call last)",
            "\u001b[0;32m<ipython-input-11-2f116213d9b2>\u001b[0m in \u001b[0;36m<cell line: 2>\u001b[0;34m()\u001b[0m\n\u001b[1;32m      1\u001b[0m \u001b[0;31m#not used!!!\u001b[0m\u001b[0;34m\u001b[0m\u001b[0;34m\u001b[0m\u001b[0m\n\u001b[0;32m----> 2\u001b[0;31m \u001b[0;32mraise\u001b[0m \u001b[0mValueError\u001b[0m\u001b[0;34m\u001b[0m\u001b[0;34m\u001b[0m\u001b[0m\n\u001b[0m",
            "\u001b[0;31mValueError\u001b[0m: "
          ]
        }
      ]
    },
    {
      "cell_type": "code",
      "source": [
        "\n",
        "\n",
        "dataset=[]\n",
        "graph_list=torch.load(PATH + \"/IA_graph_dataset\")\n",
        "for g in graph_list:\n",
        "  remapped_g = nx.convert_node_labels_to_integers(g) #remaps the ndes (and edges) to format like 0,1,2...N\n",
        "  d = from_networkx(remapped_g, )\n",
        "  #hd = d.to_heterogeneous(node_type_names=([\"data\"]), edge_type_names=[(\"data\",\"edge\",\"data\")])\n",
        "  # d = from_networkx(g)\n",
        "  # nx.get_node_attributes(graph_list[0], \"xy\")\n",
        "  nodes = remapped_g.nodes()\n",
        "\n",
        "  #\"resets\" the node id and removes isolated nodes\n",
        "  edge_index = d.edge_index\n",
        "  nodes = torch.unique(edge_index) #removes isolated nodes\n",
        "  edge_label = d.label\n",
        "\n",
        "  # node_xy = [int(g.nodes[node][\"xy\"][0]) for node in g.nodes]\n",
        "  # node_x, node_y = torch.split(d.xy, split_size_or_sections=1, dim=1)\n",
        "  node_x = d.xy[:, 0]\n",
        "  node_y = d.xy[:, 1]\n",
        "\n",
        "\n",
        "  data = HeteroData()\n",
        "  edge_label = torch.FloatTensor( [float(i) for i in list(edge_label)])\n",
        "  data[\"data\"].node_id = torch.IntTensor( [int(i) for i in list(nodes)])\n",
        "\n",
        "  data[\"data\"].num_nodes = d.num_nodes\n",
        "\n",
        "  node_features=torch.stack([node_x, node_y]).t()\n",
        "\n",
        "  data[\"data\"].x = node_features\n",
        "  data['data', 'edge', 'data'].edge_index = edge_index\n",
        "\n",
        "  #create it as size edge_label*num_classes\n",
        "  # use torch_geometric.utils.one_hot() instead does the same thing\n",
        "  def change_edge_label_dim(edge_label):\n",
        "    zero_list = lambda n=0: [0. for i in range(n)]\n",
        "    el=[]\n",
        "    for label in edge_label:\n",
        "      temp=zero_list(NUM_EDGE_CLASSES)\n",
        "      temp[int(label)]=1.0\n",
        "      el.append(temp)\n",
        "    return torch.FloatTensor(el)\n",
        "\n",
        "  data['data', 'edge', 'data'].edge_label = change_edge_label_dim(edge_label)\n",
        "  # data['data', 'edge', 'data'].edge_label = edge_label\n",
        "\n",
        "  dataset.append(data)\n",
        "\n",
        "  # Save node indices:\n",
        "  '''\n",
        "  data.node_id = Tensor(list(B.nodes()))\n",
        "\n",
        "  # Add the node features and edge indices:\n",
        "  data.x = np.ones(B.number_of_nodes())\n",
        "\n",
        "  data.edge_index = edge_index\n",
        "  data.edge_label = edge_label\n",
        "  data.number_of_nodes =  num_nodes\n",
        "\n",
        "  '''\n",
        "  # Add the node features and edge indices:\n",
        "  #data[\"data\"].x = np.ones(B.number_of_nodes())\n",
        "\n",
        "# We also need to make sure to add the reverse edges from movies to users\n",
        "# in order to let a GNN be able to pass messages in both directions.\n",
        "# We can leverage the `T.ToUndirected()` transform for this from PyG:\n",
        "#data = T.ToUndirected()(data)"
      ],
      "metadata": {
        "id": "YipHUM8gGeIz"
      },
      "execution_count": null,
      "outputs": []
    },
    {
      "cell_type": "code",
      "source": [
        "#generate fake/debugging dataset\n",
        "# sample_data=dataset[0]\n",
        "# dataset=[]\n",
        "# for i in range(1000):\n",
        "#   dataset.append(sample_data)"
      ],
      "metadata": {
        "id": "pzSm8eodBgn8"
      },
      "execution_count": null,
      "outputs": []
    },
    {
      "cell_type": "code",
      "source": [
        "# load graph object from file\n",
        "#d = pickle.load(open('sampled_data.pickle', 'rb'))"
      ],
      "metadata": {
        "id": "j606YjzWCJGf"
      },
      "execution_count": null,
      "outputs": []
    },
    {
      "cell_type": "code",
      "source": [
        "#try 2\n",
        "from torch_geometric.nn import GraphConv\n",
        "from torch.nn import Linear\n",
        "import torch.nn.functional as F\n",
        "from torch_geometric.nn import GCNConv\n",
        "from torch_geometric.nn import global_mean_pool\n",
        "\n",
        "class GNN(torch.nn.Module):\n",
        "    def __init__(self, hidden_channels):\n",
        "        super(GNN, self).__init__()\n",
        "        torch.manual_seed(12345)\n",
        "        self.conv1 = GCNConv(-1, hidden_channels)\n",
        "        self.conv2 = GCNConv(hidden_channels, hidden_channels)\n",
        "        self.conv3 = GCNConv(hidden_channels, hidden_channels)\n",
        "        self.lin = Linear(hidden_channels, 9)\n",
        "\n",
        "    def forward(self, data):\n",
        "\n",
        "        x, edge_index, batch = data[\"data\"].node_id, data[(\"data\", \"edge\", \"data\")].edge_index, data[\"data\"].batch\n",
        "\n",
        "        x = self.conv1(x, edge_index)\n",
        "        x = x.relu()\n",
        "        x = self.conv2(x, edge_index)\n",
        "        x = x.relu()\n",
        "        x = self.conv3(x, edge_index)\n",
        "\n",
        "        x = global_mean_pool(x, batch)\n",
        "\n",
        "        #x = F.dropout(x, p=0.5, training=self.training)\n",
        "        x = F.dropout(x, p=0.1, training=self.training)\n",
        "\n",
        "        x = self.lin(x)\n",
        "\n",
        "        return x\n",
        "\n",
        "model = GNN(hidden_channels=64)\n",
        "print(model)"
      ],
      "metadata": {
        "id": "3RvZ1gJnOoGA"
      },
      "execution_count": null,
      "outputs": []
    },
    {
      "cell_type": "code",
      "source": [],
      "metadata": {
        "id": "Xb0SrTACUTyS"
      },
      "execution_count": null,
      "outputs": []
    },
    {
      "cell_type": "code",
      "source": [
        "#train_dataset"
      ],
      "metadata": {
        "id": "k3RJTT7GAZHu"
      },
      "execution_count": null,
      "outputs": []
    },
    {
      "cell_type": "code",
      "source": [
        "data.edge_index_dict\n"
      ],
      "metadata": {
        "id": "QgV7JCnL6ulh"
      },
      "execution_count": null,
      "outputs": []
    },
    {
      "cell_type": "code",
      "source": [
        "metadata=data.metadata()\n",
        "names = metadata[0] + [rel for _, rel, _ in metadata[1]]\n",
        "for name in names:\n",
        "  print(name)"
      ],
      "metadata": {
        "id": "WjFZAht0r5N5"
      },
      "execution_count": null,
      "outputs": []
    },
    {
      "cell_type": "code",
      "source": [
        " data[\"edge\"].edge_index"
      ],
      "metadata": {
        "id": "GdPJxmmsWeNy"
      },
      "execution_count": null,
      "outputs": []
    },
    {
      "cell_type": "code",
      "source": [
        "import tqdm\n",
        "import torch.nn.functional as F\n",
        "import torch\n",
        "from torch import Tensor\n",
        "\n",
        "device = torch.device('cuda' if torch.cuda.is_available() else 'cpu')\n",
        "print(f\"Device: '{device}'\")\n",
        "\n",
        "model = model.to(device)\n",
        "optimizer = torch.optim.Adam(model.parameters(), lr=0.001)\n",
        "\n",
        "for epoch in range(1, 6):\n",
        "    total_loss = total_examples = 0\n",
        "    for sampled_data in tqdm.tqdm(train_loader):\n",
        "        optimizer.zero_grad()\n",
        "\n",
        "        sampled_data.to(device)\n",
        "        pred = model(sampled_data)\n",
        "\n",
        "        ground_truth = sampled_data[\"user\", \"rates\", \"movie\"].edge_label\n",
        "        loss = F.binary_cross_entropy_with_logits(pred, ground_truth)\n",
        "\n",
        "        loss.backward()\n",
        "        optimizer.step()\n",
        "        total_loss += float(loss) * pred.numel()\n",
        "        total_examples += pred.numel()\n",
        "    print(f\"Epoch: {epoch:03d}, Loss: {total_loss / total_examples:.4f}\")"
      ],
      "metadata": {
        "id": "Ak9niIxODTeR"
      },
      "execution_count": null,
      "outputs": []
    },
    {
      "cell_type": "code",
      "source": [],
      "metadata": {
        "id": "U7l60br3AaXC"
      },
      "execution_count": null,
      "outputs": []
    },
    {
      "cell_type": "code",
      "source": [],
      "metadata": {
        "id": "IxHZP4fQAaZZ"
      },
      "execution_count": null,
      "outputs": []
    },
    {
      "cell_type": "code",
      "source": [],
      "metadata": {
        "id": "UBTK_1BfAabk"
      },
      "execution_count": null,
      "outputs": []
    },
    {
      "cell_type": "code",
      "source": [],
      "metadata": {
        "id": "OSVmVsohAad4"
      },
      "execution_count": null,
      "outputs": []
    },
    {
      "cell_type": "code",
      "source": [
        "i=1\n",
        "#IG[data.edge_index[0][i].item()][2]\n",
        "print(IG[data.edge_index[0][i].item()+1][data.edge_index[1][i].item()+1])"
      ],
      "metadata": {
        "id": "ojqOb25y7o8U"
      },
      "execution_count": null,
      "outputs": []
    },
    {
      "cell_type": "code",
      "source": [
        "data=from_networkx(IG)\n",
        "print(data.edge_index)\n",
        "edge_attr=[]\n",
        "for i in range(len(data.edge_index[0])):\n",
        "  print([data.edge_index[0][i]+1][0].item())\n",
        "  t=(IG[data.edge_index[0][i].item()][data.edge_index[1][i].item()])\n",
        "  print(t)\n",
        "  edge_attr.append=t\n",
        "edge_attr\n",
        "#edge_attr= [IG[] for i in data.edge_index]\n",
        "#print(edge_attr)\n",
        "\n",
        "\n",
        "'''\n",
        "edge_attr[i] corresponds to the edge\n",
        "between edge_index[0][i] and edge_index[1][i].\n",
        "'''\n"
      ],
      "metadata": {
        "id": "WoDgpsOAsF3s"
      },
      "execution_count": null,
      "outputs": []
    },
    {
      "cell_type": "code",
      "source": [
        "edge_index=[for i in IG.edges()]\n"
      ],
      "metadata": {
        "id": "WzhVuFifq2Cr"
      },
      "execution_count": null,
      "outputs": []
    },
    {
      "cell_type": "code",
      "source": [
        "! pip install dgl\n",
        "\n",
        "# import torch.nn.functional as F"
      ],
      "metadata": {
        "id": "qBpBTGxGdmKP"
      },
      "execution_count": null,
      "outputs": []
    },
    {
      "cell_type": "code",
      "source": [
        "import dgl\n",
        "import torch.nn as nn\n",
        "import numpy as np\n",
        "import torch\n",
        "import pandas as pd\n"
      ],
      "metadata": {
        "id": "q1dvS2D_gIVp"
      },
      "execution_count": null,
      "outputs": []
    },
    {
      "cell_type": "code",
      "source": [
        "B=nx.read_edgelist(PATH + \"/IA_graph.csv\", data=True, edgetype=int, nodetype=int, create_using=nx.DiGraph)\n",
        "nx.write_edgelist(B,PATH+\"/IA_graph1.csv\",data=[\"label\"], delimiter =\",\" )\n"
      ],
      "metadata": {
        "id": "-YsX82bEJNWB"
      },
      "execution_count": null,
      "outputs": []
    },
    {
      "cell_type": "code",
      "source": [
        "B.edges(data=True)\n",
        "d=from_networkx(B)\n",
        "edge_index = d.edge_index\n",
        "edge_label = d.label\n",
        "num_nodes = d.num_nodes\n"
      ],
      "metadata": {
        "id": "zSCIwjO7JO1S"
      },
      "execution_count": null,
      "outputs": []
    },
    {
      "cell_type": "code",
      "source": [
        "graph=pd.read_csv(PATH + \"/IA_graph1.csv\", header=None, names=[\"src\",'dst','label'])\n",
        "graph"
      ],
      "metadata": {
        "id": "Jn_rx9oQJuEo"
      },
      "execution_count": null,
      "outputs": []
    },
    {
      "cell_type": "code",
      "source": [
        "src = np.random.randint(0, 100, 500)\n",
        "dst = np.random.randint(0, 100, 500)\n",
        "# make it symmetric\n",
        "edge_pred_graph = dgl.graph((np.concatenate([src, dst]), np.concatenate([dst, src])))\n",
        "# synthetic node and edge features, as well as edge labels\n",
        "edge_pred_graph.ndata['feature'] = torch.randn(100, 10)\n",
        "edge_pred_graph.edata['feature'] = torch.randn(1000, 10)\n",
        "edge_pred_graph.edata['label'] = torch.randn(1000)\n",
        "# synthetic train-validation-test splits\n",
        "edge_pred_graph.edata['train_mask'] = torch.zeros(1000, dtype=torch.bool).bernoulli(0.6)"
      ],
      "metadata": {
        "id": "SJpTKrcxq4Ni"
      },
      "execution_count": null,
      "outputs": []
    },
    {
      "cell_type": "code",
      "source": [
        "edge_pred_graph"
      ],
      "metadata": {
        "id": "dn9qon6OQCQ2"
      },
      "execution_count": null,
      "outputs": []
    },
    {
      "cell_type": "code",
      "source": [
        "B.edges(data=True)"
      ],
      "metadata": {
        "id": "G_9ix10yRyxn"
      },
      "execution_count": null,
      "outputs": []
    },
    {
      "cell_type": "code",
      "source": [
        "edge_pred_graph.num_edges()"
      ],
      "metadata": {
        "id": "lOZGUa0oU-cU"
      },
      "execution_count": null,
      "outputs": []
    },
    {
      "cell_type": "code",
      "source": [
        "B=nx.read_edgelist(PATH + \"/IA_graph.csv\", data=True, edgetype=int, nodetype=int, create_using=nx.DiGraph)\n",
        "edge_pred_graph=dgl.from_networkx(B, edge_attrs=[\"label\"])\n",
        "#edge_pred_graph.edata['label'] = graph.label\n",
        "# synthetic train-validation-test splits\n",
        "edge_pred_graph.edata['train_mask'] = torch.zeros(edge_pred_graph.num_edges(), dtype=torch.bool).bernoulli(0.6)\n",
        "edge_pred_graph.edata['train_mask']\n"
      ],
      "metadata": {
        "id": "OA_iqIKSQCdh"
      },
      "execution_count": null,
      "outputs": []
    },
    {
      "cell_type": "code",
      "source": [
        "print(len(graph))\n",
        "src = graph.src\n",
        "dst = graph.dst\n",
        "num_edges=len(graph)\n",
        "# make it symmetric\n",
        "edge_pred_graph = dgl.graph((np.concatenate([src, dst]), np.concatenate([dst, src])))\n",
        "# synthetic node and edge features, as well as edge labels\n",
        "#edge_pred_graph.ndata['feature'] = torch.randn(100, 10)\n",
        "# edge_pred_graph.edata['feature'] = graph.label\n",
        "edge_pred_graph.edata['label'] = graph.label\n",
        "# synthetic train-validation-test splits\n",
        "edge_pred_graph.edata['train_mask'] = torch.zeros(edge_pred_graph.num_edges(), dtype=torch.bool).bernoulli(0.6)"
      ],
      "metadata": {
        "id": "SO5-wmb-Itpq"
      },
      "execution_count": null,
      "outputs": []
    },
    {
      "cell_type": "code",
      "source": [],
      "metadata": {
        "id": "HTP9oylYHDpB"
      },
      "execution_count": null,
      "outputs": []
    },
    {
      "cell_type": "code",
      "source": [],
      "metadata": {
        "id": "zkCrIptJdbJL"
      },
      "execution_count": null,
      "outputs": []
    },
    {
      "cell_type": "code",
      "source": [],
      "metadata": {
        "id": "YNrLbiorddYV"
      },
      "execution_count": null,
      "outputs": []
    },
    {
      "cell_type": "code",
      "source": [],
      "metadata": {
        "id": "aWyJQyIzdiYM"
      },
      "execution_count": null,
      "outputs": []
    },
    {
      "cell_type": "code",
      "source": [
        "# Contruct a two-layer GNN model\n",
        "import dgl.nn as dglnn\n",
        "import torch.nn as nn\n",
        "import torch.nn.functional as F\n",
        "class SAGE(nn.Module):\n",
        "    def __init__(self, in_feats, hid_feats, out_feats):\n",
        "        super().__init__()\n",
        "        self.conv1 = dglnn.SAGEConv(\n",
        "            in_feats=in_feats, out_feats=hid_feats, aggregator_type='mean')\n",
        "        self.conv2 = dglnn.SAGEConv(\n",
        "            in_feats=hid_feats, out_feats=out_feats, aggregator_type='mean')\n",
        "\n",
        "    def forward(self, graph, inputs):\n",
        "        # inputs are features of nodes\n",
        "        print(graph)\n",
        "        print(inputs)\n",
        "        h = self.conv1(graph, inputs)\n",
        "        h = F.relu(h)\n",
        "        h = self.conv2(graph, h)\n",
        "        return h\n",
        "\n",
        "\n",
        "import dgl.function as fn\n",
        "class DotProductPredictor(nn.Module):\n",
        "    def forward(self, graph, h):\n",
        "        # h contains the node representations computed from the GNN defined\n",
        "        # in the node classification section (Section 5.1).\n",
        "        with graph.local_scope():\n",
        "            graph.ndata['h'] = h\n",
        "            graph.apply_edges(fn.u_dot_v('h', 'h', 'score'))\n",
        "            return graph.edata['score']\n",
        "\n",
        "\n",
        "class MLPPredictor(nn.Module):\n",
        "    def __init__(self, in_features, out_classes):\n",
        "        super().__init__()\n",
        "        self.W = nn.Linear(in_features * 2, out_classes)\n",
        "\n",
        "    def apply_edges(self, edges):\n",
        "        h_u = edges.src['h']\n",
        "        h_v = edges.dst['h']\n",
        "        score = self.W(torch.cat([h_u, h_v], 1))\n",
        "        return {'score': score}\n",
        "\n",
        "    def forward(self, graph, h):\n",
        "        # h contains the node representations computed from the GNN defined\n",
        "        # in the node classification section (Section 5.1).\n",
        "        with graph.local_scope():\n",
        "            graph.ndata['h'] = h\n",
        "            graph.apply_edges(self.apply_edges)\n",
        "            return graph.edata['score']\n",
        "\n",
        "\n",
        "class Model(nn.Module):\n",
        "    def __init__(self, in_features, hidden_features, out_features):\n",
        "        super().__init__()\n",
        "        self.sage = SAGE(in_features, hidden_features, out_features)\n",
        "        self.pred = DotProductPredictor()\n",
        "    def forward(self, g, x):\n",
        "        h = self.sage(g, x)\n",
        "        return self.pred(g, h)\n",
        "\n",
        "from torch import Tensor\n",
        "# node_features = edge_pred_graph.ndata['feature']\n",
        "edge_label = edge_pred_graph.edata['label']\n",
        "train_mask = edge_pred_graph.edata['train_mask']\n",
        "model = Model(1, 20, 10)\n",
        "opt = torch.optim.Adam(model.parameters())\n",
        "\n",
        "\n",
        "pred = model(edge_pred_graph, Tensor())\n",
        "loss = ((pred[train_mask] - edge_label[train_mask]) ** 2).mean()\n",
        "opt.zero_grad()\n",
        "loss.backward()\n",
        "opt.step()\n",
        "print(loss.item())\n",
        "\n",
        "\n",
        "# for epoch in range(10):\n",
        "#     pred = model(edge_pred_graph, Tensor())\n",
        "#     loss = ((pred[train_mask] - edge_label[train_mask]) ** 2).mean()\n",
        "#     opt.zero_grad()\n",
        "#     loss.backward()\n",
        "#     opt.step()\n",
        "#     print(loss.item())"
      ],
      "metadata": {
        "id": "lX394xGDdkSW"
      },
      "execution_count": null,
      "outputs": []
    },
    {
      "cell_type": "code",
      "source": [],
      "metadata": {
        "id": "XpqQ_mRqdFOT"
      },
      "execution_count": null,
      "outputs": []
    },
    {
      "cell_type": "code",
      "source": [
        "import torch\n",
        "import torch.nn as nn\n",
        "import torch.nn.functional as F\n",
        "from torch_geometric.nn import MessagePassing\n",
        "from torch_geometric.utils import add_self_loops, degree\n",
        "\n",
        "class EdgePredictor(MessagePassing):\n",
        "    def __init__(self, in_channels, out_channels):\n",
        "        super(EdgePredictor, self).__init__(aggr='max')  # Use max pooling for message aggregation\n",
        "\n",
        "        self.node_idx = torch.arange(in_channels, dtype=torch.long)\n",
        "        self.lin = nn.Linear(in_channels * 2, out_channels)\n",
        "\n",
        "    def forward(self, x, edge_index):\n",
        "        # x: Node features\n",
        "        # edge_index: Graph connectivity\n",
        "\n",
        "        # Add self-loops for the message passing\n",
        "        edge_index, _ = add_self_loops(edge_index, num_nodes=x.size(0))\n",
        "\n",
        "        # Calculate the normalized degree for each node\n",
        "        deg = degree(edge_index[0], x.size(0), dtype=x.dtype)\n",
        "        deg_inv_sqrt = deg.pow(-0.5)\n",
        "        deg_inv_sqrt[deg_inv_sqrt == float('inf')] = 0\n",
        "\n",
        "        # Calculate the normalized adjacency matrix\n",
        "        norm = deg_inv_sqrt[edge_index[0]] * deg_inv_sqrt[edge_index[1]]\n",
        "        edge_index_norm = Tensor((2,200))\n",
        "        print((edge_index / norm).size())\n",
        "        print((edge_index).size())\n",
        "        edge_index_norm = (edge_index / norm).int\n",
        "        return self.propagate(edge_index=edge_index_norm, size=(x.size(0), x.size(0)), x=x)\n",
        "\n",
        "    def message(self, x_j):\n",
        "        return x_j\n",
        "\n",
        "    def update(self, aggr_out, x):\n",
        "        aggr_out = torch.cat([aggr_out, x[self.node_idx]], dim=-1)\n",
        "        aggr_out = F.relu(self.lin(aggr_out))\n",
        "        return aggr_out\n",
        "\n",
        "\n",
        "# Example usage:\n",
        "# Initialize the model\n",
        "model = GNNEdgeClassifier(in_channels=1, hidden_channels=32, out_channels=11)  # 11 classes (0 to 10)\n",
        "\n",
        "# Example data (replace with your own data)\n",
        "x = torch.randn(100, 1)  # Node features (not used in this example)\n",
        "edge_index = torch.randint(0, 100, (2, 200), dtype=torch.long)  # Random edge connectivity\n",
        "edge_labels = torch.randint(0, 11, (200,), dtype=torch.long)  # Random edge labels (0 to 10)\n",
        "\n",
        "# Forward pass\n",
        "predictions = model(x, edge_index)\n",
        "\n",
        "# Calculate loss (replace with your own loss function)\n",
        "criterion = nn.CrossEntropyLoss()\n",
        "loss = criterion(predictions, edge_labels)\n"
      ],
      "metadata": {
        "id": "7QEW1FPzeS1a"
      },
      "execution_count": null,
      "outputs": []
    },
    {
      "cell_type": "code",
      "source": [],
      "metadata": {
        "id": "IPioOvKCZp37"
      },
      "execution_count": null,
      "outputs": []
    }
  ]
}